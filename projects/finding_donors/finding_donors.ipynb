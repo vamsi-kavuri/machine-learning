{
 "cells": [
  {
   "cell_type": "markdown",
   "metadata": {},
   "source": [
    "# Machine Learning Engineer Nanodegree\n",
    "## Supervised Learning\n",
    "## Project: Finding Donors for *CharityML*"
   ]
  },
  {
   "cell_type": "markdown",
   "metadata": {},
   "source": [
    "Welcome to the second project of the Machine Learning Engineer Nanodegree! In this notebook, some template code has already been provided for you, and it will be your job to implement the additional functionality necessary to successfully complete this project. Sections that begin with **'Implementation'** in the header indicate that the following block of code will require additional functionality which you must provide. Instructions will be provided for each section and the specifics of the implementation are marked in the code block with a `'TODO'` statement. Please be sure to read the instructions carefully!\n",
    "\n",
    "In addition to implementing code, there will be questions that you must answer which relate to the project and your implementation. Each section where you will answer a question is preceded by a **'Question X'** header. Carefully read each question and provide thorough answers in the following text boxes that begin with **'Answer:'**. Your project submission will be evaluated based on your answers to each of the questions and the implementation you provide.  \n",
    "\n",
    ">**Note:** Please specify WHICH VERSION OF PYTHON you are using when submitting this notebook. Code and Markdown cells can be executed using the **Shift + Enter** keyboard shortcut. In addition, Markdown cells can be edited by typically double-clicking the cell to enter edit mode."
   ]
  },
  {
   "cell_type": "markdown",
   "metadata": {},
   "source": [
    "## Getting Started\n",
    "\n",
    "In this project, you will employ several supervised algorithms of your choice to accurately model individuals' income using data collected from the 1994 U.S. Census. You will then choose the best candidate algorithm from preliminary results and further optimize this algorithm to best model the data. Your goal with this implementation is to construct a model that accurately predicts whether an individual makes more than $50,000. This sort of task can arise in a non-profit setting, where organizations survive on donations.  Understanding an individual's income can help a non-profit better understand how large of a donation to request, or whether or not they should reach out to begin with.  While it can be difficult to determine an individual's general income bracket directly from public sources, we can (as we will see) infer this value from other publically available features. \n",
    "\n",
    "The dataset for this project originates from the [UCI Machine Learning Repository](https://archive.ics.uci.edu/ml/datasets/Census+Income). The datset was donated by Ron Kohavi and Barry Becker, after being published in the article _\"Scaling Up the Accuracy of Naive-Bayes Classifiers: A Decision-Tree Hybrid\"_. You can find the article by Ron Kohavi [online](https://www.aaai.org/Papers/KDD/1996/KDD96-033.pdf). The data we investigate here consists of small changes to the original dataset, such as removing the `'fnlwgt'` feature and records with missing or ill-formatted entries."
   ]
  },
  {
   "cell_type": "markdown",
   "metadata": {},
   "source": [
    "----\n",
    "## Exploring the Data\n",
    "Run the code cell below to load necessary Python libraries and load the census data. Note that the last column from this dataset, `'income'`, will be our target label (whether an individual makes more than, or at most, $50,000 annually). All other columns are features about each individual in the census database."
   ]
  },
  {
   "cell_type": "code",
   "execution_count": 57,
   "metadata": {
    "collapsed": false
   },
   "outputs": [
    {
     "data": {
      "text/html": [
       "<div>\n",
       "<table border=\"1\" class=\"dataframe\">\n",
       "  <thead>\n",
       "    <tr style=\"text-align: right;\">\n",
       "      <th></th>\n",
       "      <th>age</th>\n",
       "      <th>workclass</th>\n",
       "      <th>education_level</th>\n",
       "      <th>education-num</th>\n",
       "      <th>marital-status</th>\n",
       "      <th>occupation</th>\n",
       "      <th>relationship</th>\n",
       "      <th>race</th>\n",
       "      <th>sex</th>\n",
       "      <th>capital-gain</th>\n",
       "      <th>capital-loss</th>\n",
       "      <th>hours-per-week</th>\n",
       "      <th>native-country</th>\n",
       "      <th>income</th>\n",
       "    </tr>\n",
       "  </thead>\n",
       "  <tbody>\n",
       "    <tr>\n",
       "      <th>0</th>\n",
       "      <td>39</td>\n",
       "      <td>State-gov</td>\n",
       "      <td>Bachelors</td>\n",
       "      <td>13.0</td>\n",
       "      <td>Never-married</td>\n",
       "      <td>Adm-clerical</td>\n",
       "      <td>Not-in-family</td>\n",
       "      <td>White</td>\n",
       "      <td>Male</td>\n",
       "      <td>2174.0</td>\n",
       "      <td>0.0</td>\n",
       "      <td>40.0</td>\n",
       "      <td>United-States</td>\n",
       "      <td>&lt;=50K</td>\n",
       "    </tr>\n",
       "  </tbody>\n",
       "</table>\n",
       "</div>"
      ],
      "text/plain": [
       "   age   workclass education_level  education-num  marital-status  \\\n",
       "0   39   State-gov       Bachelors           13.0   Never-married   \n",
       "\n",
       "      occupation    relationship    race    sex  capital-gain  capital-loss  \\\n",
       "0   Adm-clerical   Not-in-family   White   Male        2174.0           0.0   \n",
       "\n",
       "   hours-per-week  native-country income  \n",
       "0            40.0   United-States  <=50K  "
      ]
     },
     "metadata": {},
     "output_type": "display_data"
    }
   ],
   "source": [
    "# Import libraries necessary for this project\n",
    "import numpy as np\n",
    "import pandas as pd\n",
    "from time import time\n",
    "from IPython.display import display # Allows the use of display() for DataFrames\n",
    "\n",
    "# Import supplementary visualization code visuals.py\n",
    "import visuals as vs\n",
    "\n",
    "# Pretty display for notebooks\n",
    "%matplotlib inline\n",
    "\n",
    "# Load the Census dataset\n",
    "data = pd.read_csv(\"census.csv\")\n",
    "\n",
    "# Success - Display the first record\n",
    "display(data.head(n=1))"
   ]
  },
  {
   "cell_type": "markdown",
   "metadata": {},
   "source": [
    "### Implementation: Data Exploration\n",
    "A cursory investigation of the dataset will determine how many individuals fit into either group, and will tell us about the percentage of these individuals making more than \\$50,000. In the code cell below, you will need to compute the following:\n",
    "- The total number of records, `'n_records'`\n",
    "- The number of individuals making more than \\$50,000 annually, `'n_greater_50k'`.\n",
    "- The number of individuals making at most \\$50,000 annually, `'n_at_most_50k'`.\n",
    "- The percentage of individuals making more than \\$50,000 annually, `'greater_percent'`.\n",
    "\n",
    "** HINT: ** You may need to look at the table above to understand how the `'income'` entries are formatted. "
   ]
  },
  {
   "cell_type": "code",
   "execution_count": 58,
   "metadata": {
    "collapsed": false
   },
   "outputs": [
    {
     "name": "stdout",
     "output_type": "stream",
     "text": [
      "Total number of records: 45222\n",
      "Individuals making more than $50,000: 11208\n",
      "Individuals making at most $50,000: 34014\n",
      "Percentage of individuals making more than $50,000: 0.25%\n"
     ]
    }
   ],
   "source": [
    "# Using Python 2.7\n",
    "# TODO: Total number of records\n",
    "n_records = data.shape[0]\n",
    "\n",
    "# TODO: Number of records where individual's income is more than $50,000\n",
    "n_greater_50k = data.income.value_counts()[1]\n",
    "\n",
    "# TODO: Number of records where individual's income is at most $50,000\n",
    "n_at_most_50k = data.income.value_counts()[0]\n",
    "\n",
    "# TODO: Percentage of individuals whose income is more than $50,000\n",
    "greater_percent = n_greater_50k/float(n_records)\n",
    "\n",
    "# Print the results\n",
    "print \"Total number of records: {}\".format(n_records)\n",
    "print \"Individuals making more than $50,000: {}\".format(n_greater_50k)\n",
    "print \"Individuals making at most $50,000: {}\".format(n_at_most_50k)\n",
    "print \"Percentage of individuals making more than $50,000: {:.2f}%\".format(greater_percent)"
   ]
  },
  {
   "cell_type": "markdown",
   "metadata": {},
   "source": [
    "** Featureset Exploration **\n",
    "\n",
    "* **age**: continuous. \n",
    "* **workclass**: Private, Self-emp-not-inc, Self-emp-inc, Federal-gov, Local-gov, State-gov, Without-pay, Never-worked. \n",
    "* **education**: Bachelors, Some-college, 11th, HS-grad, Prof-school, Assoc-acdm, Assoc-voc, 9th, 7th-8th, 12th, Masters, 1st-4th, 10th, Doctorate, 5th-6th, Preschool. \n",
    "* **education-num**: continuous. \n",
    "* **marital-status**: Married-civ-spouse, Divorced, Never-married, Separated, Widowed, Married-spouse-absent, Married-AF-spouse. \n",
    "* **occupation**: Tech-support, Craft-repair, Other-service, Sales, Exec-managerial, Prof-specialty, Handlers-cleaners, Machine-op-inspct, Adm-clerical, Farming-fishing, Transport-moving, Priv-house-serv, Protective-serv, Armed-Forces. \n",
    "* **relationship**: Wife, Own-child, Husband, Not-in-family, Other-relative, Unmarried. \n",
    "* **race**: Black, White, Asian-Pac-Islander, Amer-Indian-Eskimo, Other. \n",
    "* **sex**: Female, Male. \n",
    "* **capital-gain**: continuous. \n",
    "* **capital-loss**: continuous. \n",
    "* **hours-per-week**: continuous. \n",
    "* **native-country**: United-States, Cambodia, England, Puerto-Rico, Canada, Germany, Outlying-US(Guam-USVI-etc), India, Japan, Greece, South, China, Cuba, Iran, Honduras, Philippines, Italy, Poland, Jamaica, Vietnam, Mexico, Portugal, Ireland, France, Dominican-Republic, Laos, Ecuador, Taiwan, Haiti, Columbia, Hungary, Guatemala, Nicaragua, Scotland, Thailand, Yugoslavia, El-Salvador, Trinadad&Tobago, Peru, Hong, Holand-Netherlands."
   ]
  },
  {
   "cell_type": "markdown",
   "metadata": {},
   "source": [
    "----\n",
    "## Preparing the Data\n",
    "Before data can be used as input for machine learning algorithms, it often must be cleaned, formatted, and restructured — this is typically known as **preprocessing**. Fortunately, for this dataset, there are no invalid or missing entries we must deal with, however, there are some qualities about certain features that must be adjusted. This preprocessing can help tremendously with the outcome and predictive power of nearly all learning algorithms."
   ]
  },
  {
   "cell_type": "markdown",
   "metadata": {},
   "source": [
    "### Transforming Skewed Continuous Features\n",
    "A dataset may sometimes contain at least one feature whose values tend to lie near a single number, but will also have a non-trivial number of vastly larger or smaller values than that single number.  Algorithms can be sensitive to such distributions of values and can underperform if the range is not properly normalized. With the census dataset two features fit this description: '`capital-gain'` and `'capital-loss'`. \n",
    "\n",
    "Run the code cell below to plot a histogram of these two features. Note the range of the values present and how they are distributed."
   ]
  },
  {
   "cell_type": "code",
   "execution_count": 59,
   "metadata": {
    "collapsed": false
   },
   "outputs": [
    {
     "data": {
      "image/png": "iVBORw0KGgoAAAANSUhEUgAAAxAAAAF2CAYAAAD+y36TAAAABHNCSVQICAgIfAhkiAAAAAlwSFlz\nAAALEgAACxIB0t1+/AAAIABJREFUeJzs3Xe8PUV9//HXmyrFggqIoIKE2BUFEYNRsIEVWwxG9Ivd\nqIlG/UWsYMEaNRBjixJQiYpYQEQREexIERREKQooHbHQpM/vj5nDd7+HW/Z+v/fcdl7Px+M87tnZ\nPbsze87d2c/O7GxKKUiSJElSH6vNdwYkSZIkLR4GEJIkSZJ6M4CQJEmS1JsBhCRJkqTeDCAkSZIk\n9WYAIUmSJKk3AwjNqyRPS/L9JJcm+WuS85J8LckunWX2SFKS/M185nVldfK/+TTLHdCWK0luTvKX\nJKcn+XSSh6/seif4zAtnmP8Dkpzbmd68bffFM1nPyuRrZcq4kCRZLcl/Jrmofadfm2b59ZK8McnP\nklyZ5NokZyT5ryRbjjCfeyd59ATpK3z3S12Suyf5SJKz2r6/KskJSd6U5Pbznb9R6Rx3SpIbklyW\n5AdJ3ppko1VY74S/q1XM695D+e2+RlJHrMxxU1rq1pjvDGh8JflXYF9gf+ADwNXAlsCTgEcD35q/\n3M2by4CntvfrAfcCdgd+nOQ9pZQ3dZb9BvBw4KIZrH8P6v/9/jP4zDup39Mo7cHE+VqZMi4kzwJe\nDbwO+Alw+WQLJtkE+A5wV+AjwA+B64H7Ai8AHgE8eET53AvYB/juUPpcfPcLQpJHAocBlwL7AacB\nawLbA68ENgT+bd4yOHoHAJ+gXli8E7Xc/wL8a5JdSyk/Xol1Tva7mg2PAG4aSvv9CLYDK3fclJY0\nAwjNp9cDXyulvKiT9l3gf5KMa+vY9aWU4zrTRyf5GPBh4I1JTiqlfBmglHIZNeAYiSRrl1KuK6X8\nZlTbmM6oyzgH7tP+/mcp5eZplv0ssAmwXSnlrE76McB/J3naKDI4lfn87udSkg2AQ4BfAY8tpVzd\nmf3tJB8E/m5eMjd3Lhg69nw9yX7AD4CvJLlnKeWaecrbRH5aSrlxvjOxspKsCdxYfJqvFqlxPUnT\nwnBH4OKJZkx3spVk2ySXJPlKktu0tDVa949fJ7kuyYVJPjiY35Y5NcmnOtO3T3JjkvOH1v+jJF/q\nTE+77rbcPZN8I8k1rRvAvsDaM9kpE+yLAvw7cAnwms62btW9J8k/JTm5db24opX3ZW3escCjgB06\nTf7HDq3rkUm+lOTPwE/bvMm6sayV5EOp3c+uSXL4cFejts69h9IGXaD2mEG+umVcM8m7kpyb5Pr2\n912tQh7exsuSvCO1C9Gfk3w9yWZD+Zl0n00lyS5JfpLa9e4vqV3v7tWZfy4wKPtN3TJPsK6HAo8B\n3j0UPNyilPK1zvKztg+SDE5g3tzZ/3u3eZN1X+uzX6f97jvpuyf5eWq3oT8k+Wxqi8yM15fkoUmO\nSnJ5+25+m+SjE+3TjhdTWxj+ZSh4AKCUcnUp5ajONtZN8r4k57T9f06SN6dz4SPJji1vT03tFvWH\n9vpckjsMlePVSX7V8vunJCcmeXpn/rlJDhjO1/A+SfK3Sb7a/ievTfK71P/nlbpYWEq5BPh/wMbA\nczrbeXySI9r3f02S05K8Lsnq3by1txP9rh6a5JAk57cyn5Hk3UnWWZl8TiTJFkkOSj0OX5fklO4+\nbcv8TfutndP5rXwsNaAcLHMskx+f9u6Us7veyf5vXpHk/UkuBK4D7jCDvM7qdyutKn94mk/HA8uS\n/BY4tJRyZp8PJXk88GXgIOCVpZRBM/bngKcA7wN+TL36+05gc+CZbZljgCd3VrcjtZvIpkn+tpRy\nZpL1gYdSu54MTLvuJGsBRwHrULs8XAq8DHhGn3JNpZRyfZKjgWclWWOiK29JHtHyuR+10l8NuDet\nkgJe0eav3vIFcMXQag4CPk/tejPd8eGNwCnU7jUbAe+mXq29XynlhhkUr0++ug4Ent2290PqleE3\nA/cE/mmCPP4YeGHL4wfbtnaEXvtsQqn36HyD2mL2j8D6wDuAHybZupRyAfB04F+p3R8G97BMdkX/\nce3vYVNtt2PW9kHL209Y3oUFYIWAegLTrbO3JC9t2/1iW+9dW7keluQhpZSrZrCu9YEjqceWPYAr\nqf+j07UePA64qJRyYo9trNG2cV/qMeBUaneft1Ivirxu6CP7AodTv5d7Ae+ndr1Z1tb3XOr+ewf1\nav86wAPbumbqG8CfgH8G/gBsCjyRVbtY+G3gRmAH4NMt7Z7AscBHqV1Pt6UGyxsCe7Zlpvpd3YO6\n3z4L/Bm4H/C2tt7deuZr9STd6ZsHF56S3I16AeRSarezy6j/p19O8rRSyuD/7K7AhdTv7HJgC+BN\nwBEs/5+d6fFpKm8GTgBe2tZ37QzyOorvVlp5pRRfvublBfwt8AugtNcfqCevjx9abo82/2+A51JP\n+N8+tMzft2WeP5T+3Ja+dZt+epu+R5v+T+pJ21nAy1raLm2Ze89w3S9p09t3llkN+GVL33ya/XEA\ncP4U89/T1rPx0H7ZvE2/HvjjNNs4FvjhBOmDdX14knyd25nevC17OrBaJ32Hlv6iTloB9h5a3+Dz\ne8wgX4My3n+Sdb6lpT9waBvHDi33+pZ+1777bJL9eGL7zazRSdsCuAH4UCftXbRGpGnW97GWr7V7\nLDur+6DzPb1rBt9933VO+d1TT6IuAY4ZWu4Rbbl/neH6tu3ugxl8n78CftJz2ee1bTxyKP3N1GPT\nRm16x7bcgUPLfQS4Fkhn+mfTbPNc4IAJ0m/ZJ8Cd2/RTV+L3POH335l/EfDNSeaFerHhzdQT3NX6\nrnfo87sDNwN3mmb5vVleZ3Rfn+ss82nqifidhj57FHDKFOteo/Pbe3An/VgmPj7tzQT/31P83/xs\n8L3PJK+r8t368jWql5Gr5k2pLQ4PpjYP70O9mv104Mgkb5ngI6+hHphfXUrZa2jeLtTK+5DU7kZr\ntCuF327zH9n+HkutpAYjgzyaehX5u0NpF5VSfj3DdT8c+H3p9CMu9YrYwT12Rx+Dy21lkvknABu0\nLhJPHu4m0dNXZ7DsIaXT1ayU8iPqFcZbjRg1iwb7+nND6YPpRw2lHzE0fWr7e/f2d8b7LMl6wEOA\nL5ZOS1Ap5RzgRxPkYbbN9j5YGbO1zntRWzAO6iaWUn4InMfM9+VZ1Cvan0jtFnW3GX6+j12oefvx\nBMeDwU3XXd8Ymj6V2q1x4zZ9ArB16khbj02y7krm63Lgt8B7k7wkyVYruZ6JhM5xJ8kmST6R5Dzq\nsfEGarB8B+r3OfXKktuldgH7DbUrzw3U1ogAffO9PbWlePB6a2feLtTf6F+GvqMjgQcluV3Lx1qp\nI2z9OslfWz5+0NZxL2bf10opw8fvPnkd5XcrrRQDCM2rUspNpZTvl1LeUkp5LLUJ+1Rgr24/1GY3\n4AJq96VhGwFrUZvTb+i8Lm3z79S29yfg58BOSe5MvZp7THvt2JbdqU3PaN3UG2AvmSBvE6WtjLtR\nK+s/TjSzlPI94B/acl8FLkvynSQPnME2ZjLa0WRl3XQG65ipQbeO4XxePDR/YHhfXdf+3gZWep9t\nQD3RmWhfXTxBHvoYjB5zjx7Lzuo+WEmztc7JygIrsS9LKX+h/v9eSO1e87vWP/+ZU3+S39Nv30M9\nHtyDFY8FN1C7TcHy48HAdPvqM9RuKQ+jnjT+MfXers175ge45V6px1Fbx94DnNn69P/zTNYzrN2X\ncGfad5R6n8dh1K6g76JecHko9SIQ9PsN/C/wcmrXwce1z79yBp8HOKmUcmLndU5n3kbA87n1d/SB\nNn/wHb2H2orwOerof9uxvMvpqvx/TGai3/m0eR3VdyutCu+B0IJSSrkw9SbnfalXoo7vzH4m8Eng\n2CSPLqV0b8C+nNot4O8nWfWFnffHUPuP79Q+9wvqgX2jJDtQW0U+0Vm+77ovovblHbbxBGkz0u6v\neCxwXJli5JFSyiHUlpL1qQHR+4BvJdmsTD8KEEzeujGRicq1MbUlaeA6avDVNXyCNRODk7G7sOL9\nBHcZmt/bSuyzP1H3010mmHeXlckDdfjWfaj32XxwmmVnfR+MSJ/vvluWYXcBTprh+iilnAI8s13F\n3ZZ6X8XBSR5USjltkrx+B3hckm1KKSdNsszA5cA51GPIRM6d5vPD+S3U480n2kWTx1N/A1+kBhVQ\njz8rlD3JRGX/LfD81JsDHgS8CvhoknNLKd+cSb46dqZ2Nfthm96Sul+fV0q5pRUsyVP6rCx14Ild\nqV2v9u2kP2Al8zeRy6ktCe+bZP7gmL0b8JlSyrs6+Vh/Btu5tn1mrVLK9Z30yY5xEx1fe+V1RN+t\ntNJsgdC8ydAoKx33bn+HR2i6gHqCtxpwzNDnv0W9YnT7oatSg1c3gPgusBn1hrhjS3Up9V6Ft1Mr\ny2NWYt0/Ae6W5JYuDO1q3WQnGr20CuP91CtVH+7zmVLKVaWUw6knJpuwvEK7jnqT5mx4VlYcdWYH\n6n79SWeZ86itPF1PmmBdffP1/fZ3+EbL57a/x/ZYx4Sm2GfDy11NPbH9h6w46sw9qDfrzjgPpZTj\nqb/LN2WSh2El2bW9HcU+uJ7Z+10M9Pnuz6C2Wq1QliR/R73Kf+wM13eLUsqNrTvhW6nHjPtMtizw\nKeo9WB9pXdRWkDrq0mPb5LeoLVZXTXI8+MMU25lSKeVPpZQvUrs9dss607KXFki9tiUNf7aX1IfI\nvZ96ceQLLXnQxeqGznJrsvz31zXR72pt6jF2eKCFPVYmj5P4FvVG9F9O8h0NWoHWnSAfL5hgfZMd\nn85rf2/Zv60b5EyG/O2bV2D2vltpVdkCofl0WpLvUPt/ngPcjjqqxMuBg0spvxv+QCnloiQ7Uk+2\njmktEReWUo5N8nnqleQPUVsubqbevPZE4A1l+ShPP6COgvIYljebQw0aXgX8rnTGv5/Bug+kjkDy\nlSRvonZxenkrV19rdQKQdVn+ILmHU29GnPRJxkneQW0BOIZ61Woz6ihAp5T6PAWoNz6/Isk/Uq9e\nX1lKOWMG+eu6LfC1JJ+gjr7yHmof9M90lvkC8JYkbwaOo7biPGd4RX3zVUo5rX0Xe7crzD+m7pu3\nAp8vpZw6/Jmp9NxnE3krtW/74alDhK5PDT7/wvQtCJPZnXol/IQk/8XyB8ndmzra0ZrU0cpmdR80\npwNPSvItagvLhUNB98qY9rsvpdyU5G3Uq++fo3Yl2ZTaGnMWKz64a9r1JXkydYSbr1GPKetRv88r\nWTGwXUEp5Y+tm9NhwM/a/h88SG476v/xIdTv5yDqSebRqc+H+Dm1dWBL6kMgn1Zm8LyEJJ/s5O9S\n6uASz2P5PVaDsu+f5MPUEZ0exNAJd+t2ty+15eJs6kn6HtQRlPo8yG3TduxZjdp1bHvqwBABnlJK\n+Wtb7lfUE+d9ktxEPQGf7AF7E/6ukhwHvC7JRdTA7YXMbtfHt1GP099P8hFqq9AG1JPte5ZSBk+V\n/hZ1JMBTqfvsGUx88j/Z8emb1P/5/0myFzU4+neg98hhffI6C9+tNPvKAriT29d4vqiV8mHUyuha\n6j0GJ1MPwGt1ltuDNgpTJ20j6r0SZwKbtrTVqEOv/ryt7y/t/fuprQfdbf+UzkhLLW0wQtMBE+S1\n17qp93AcAVxDHVljX2pLxy0jCU2xPw5g+YgiN1NPKn5FHaVj+wmW36O7XuoVySOpVwuvo/br/jQr\njoxzl5a/K+mMpjPRPh7K17md6c3bsq8APtTKeQ31hHqLoc/epu2Di9o2v0g9Ibtl5Jye+dq8s+xa\n1L7X51FPXs5r02tOkMcXD+Vnx5a+Y999NsX3tQv1pO+v7fdwKHCvoWV6jcLUWX596jCSJ1P/H66j\nXqXfl3oyMev7oKXtQG1VuZYVR/aZ7Lvvs85e331bdnfq/9N11C4dnwU2melviRpwf5EaPFxL/W0e\nATys5/6/B3VUpMHNvVdRb3LeE7jdUF72Bn7dlvtjW25v2shcnX3y2Gn+b5dRW1oubes6h9rS2N3e\natQTzfOo/2tHUgOW7ne1EfUixpltmT8C3wN27lHu7mhGN1BP6n9IHdlrwwmW37rNv4Y6cMI7qM/S\nGP5fnex3tTn15PvKVu6PUP8XV/gNTZLXvdtya0yz3GbUlqULqIH4RdSRjXbvLHNnanD2p/Y6iHo/\nRq/jU5v3iPbdX9P2/e70/L/pm9dV+W59+RrVazCMnCRJkiRNy3sgJEmSJPVmACFJkiSpNwMISZIk\nSb0ZQEiSJEnqzQBCkiRJUm8GEJIkSZJ6M4CQJEmS1JsBhCRJkqTeDCAkSZIk9WYAoQklOSDJ4bOw\nnr2TnDYbeZpmO5snKUm2HfW2xl2SPZJcNaJ1H5vkI53pc5O8fkTbGlk5pHEwl/XEbG1LozPK+n64\nLmj1/bNGtK05OW9Z7AwgFoF24Nx7jjf7amD3Th5WOLFbgH4PbAKc0vcDSXZMcu40y5zbDlTd159X\nMa/D25j3fdv2xaB8Nye5IskvkuybZIuhxb8I3LPnemca2D0DeONM8t4zHxNVNr3LIS101hOzp11c\nOHaaZYbrhZKkd/3TMx8ju4Aygzzs0SnfTUn+nOTEJPsk2Who8f8AHtVzvYM65849s/JQ4KMzyXuP\nPExWP/UuxzhbY74zoIWplPKX+c7DTJRSbgIuHtHq3wF8rDN984i2s8qSrFlKuWEVVnE/4I/A+sCD\ngNcApyZ5UinlewCllL8Cf13lzHYkWauUcn0p5Y+zud6pjKIc0jhZbPXECLwE6LaKrMqxd2SSrAak\n1ZMr4xpgSyDA7agn828AXpLkUaWUXwGUUq4CZrVVt1M3XDab653KKMqxFNkCsQglWSvJu5Ocl+S6\nJL9N8q9t3upJPp3knCR/TXJWkn9vB5DB5w9IcniStyS5JMlVSf43yTrDywzeU6PxV3auRGzeZ1s9\ny7Neks+0fFyU5P+1/B3QWWb3JCckuTLJpUm+lGTTzvwVriR0rm48JslPk1zTrpo8ZCV2+ZWllIs7\nr0s72719kk+2PF2Z5HvdqxlJ7pTk80nOb/vol0le0Jk/2b691dWZKcr4xCTHJ7ke2LnNe0qSk5Jc\n276ffZKs1aOsl7Yynl1K+TKwI3AysH+S1du6V+j6k+RuSQ5N8se2n3+dZLc2+5z294SW12MH5W7f\n8RuSnA+c39InuoK5fpLPtd/HxRm6IpcJWhfSuXKX5a1MX2rLnjtROVray5KcneT69vclE2zrpe33\nd3X739sdaYHJEqsnJijf2kn+s+Xt2iTHJXlEZ/6aSfZLcmEr/++TvLcz/xmprax/bceu7yXZeIbZ\n+PNQ3XB5Z/2bJvlCkj+11zeSbNWZv2U7bl7cjiU/S/LkzvxjgXsAHxjsz5Y+0XFrhfpisEyrG04D\nrgfu0+a9IMnpbZ+dmeTfenwXpZXvolLKGaWUzwEPB/4MfLyTjxW6/iR5QJKjU1u0r0ry8yQ7Jdkc\nOKYtdlnL+wGDcif5WJL/SHIZ8KOWPlFrzF3afr2m/c67rWETti5kxfpisvppuByrJXlr+w1dl+TU\nJLtOsK1nJjmq5ef0JI+bZr8uagYQi9OBwPOB11IPCsuAP7V5qwEXAM9u894MvAl4wdA6HkW9wvwY\n4JnA44H3TbK9VwM/Af6X2k1oE2qXob7bms4HW36eDjwW2Ab4+6Fl1gL2anl+MnBn4PM91v0eYE/g\nIcDlwEFJMsP8Tait5xvApi1PDwa+D3w3ySZtsdsAP2vz7wfsC3wiyWPa/Mn27Uy8D3gLcG/gp0l2\nBg4CPtK2+ULgWcC7Z1rGdsXqw9SuPg+eZLGPAusCO7XtvYZasQBs1/7uQi3bMzqfexTwwDbvMUzu\ntcCvqN/hXsC7kzxjiuWHPbT9fUnLw0MnWijJ06n77D+B+1O/q48mecrQom8DDqX+Fr9IDa7uPoP8\nSHNhqdUTw94P/CP1+PZg4FTgW51j779S65TdgK3asmcAJLkL8AXqProP8Ejgs6uYn1skWZd6gnwt\ndR8+HLgI+E6bB7WV95vA46j7+MvAV5Lcu81/BvXCyjtYvj9n4jbAW4GXAfcFzku9IPJu6jHsPsDr\nqC0Jr5hpGdtV+o8Dj0yy4SSL/R+13NsBWwN7U/fJ76m/J6h1xibU38/A7tTWjr+n/oYn83bgsLbu\nTwKfGQ4YpjFV/dT1auD/UffVA4CvUr+rrYeW2wfYj/p9ngB8Icn6M8jP4lJK8bWIXtQDYQF2mcFn\n3gt8pzN9APUEb/1O2u7AdcB6nWUO78w/FvjISmxrb+C0KZZfn3p1ZLdO2nrUiu6AKT5377YfNmvT\nm7fpbdv0jm16585nduh+pue+O7ftl6s6rze1eY9u0+sMfeYU4N+nWOcXgE9NtW87+b9zJ22yMj5z\n6LPfB946lPa0ltdMkqdbbW+Cff3sNr0HcFVn/i+AvSZZ7wp5HvoNXgasPZS+wr5o+/+ooWU+Bfyw\nM12AZ03wvb1+mmWGy/EjYP8J8jm8rfd0ptegNu/v3vc35cvXqF8ssXpieFvUOuJ64Pmd+asDvwHe\n1ab3A46e6JhHvRhRgHuswj4u1C6Q3brhuW3eC4Gzuttu+bt8cBydZJ3HAW/pTK9wHGtpKxy3WtqO\ndI7fbZkCbDO03O+A5w2lvQY4fYo83Wp7nXm7tO1sN9H3CFwBLJvksyvkeeg39IsJll9hX7TP/s/Q\nMt8BPtfeb87Edc8tdcEUywyX4wLgbRPkc3hbL+vM37SlPWJlf2ML/eU9EIvPg6l98I+ZbIEkLwde\nTG3+XAdYEzhvaLFflHoFYeAn1Kv8W1JPCHvpua3Bsn9PveIy8DLgtPaZ4weJpZSrMzQCQmrXo72o\nVxruSL06AXB3WveXSXTLcmH7u9E0nxn2IeDTnelBP/1tqFfeLxtq1LgNdT+S2u1nT+rVr02Btan7\n+dgZbH86Jw5NbwNsl+QNnbTVqN/PXahXhGZiULgyyfx9gY8n2YVaYX+1lHJSj/WeVkq5rsdyP5lg\neiYtEH3dB9h/KO2HwFOH0m75TZVSbmzN7MM3E0rzaUnVE6WUg4YW27Kt40eDhFLKTUl+Qr3aDjXg\nOAo4M8m3gSOAb5ZSbgZ+Tj3ZPK3N+w5wSJl5P/v/B3yrM31J+7sNsAVw5VDdsC7L64b1qHXak6lX\nv9ek1h299+s0bqQzqEhrJbgbtQW8e0/fGiw/xs/UdHXDh4BPJVlGrRu+XEr5dY/19qk/YOK64Uk9\nP9tLktsBd6XzW2t+CDxxKG2y840lyQBiiUnyj9QuGK8Hfky9AvBKalPufG/rRGoAMHAJPUbBaQfa\nI6kH+ecBl1K7MP2AWplNpXtT2+AgN9Oue5eXUs6eIH01ahmGu1tB3RdQ983rqE2gp1KvUr2b6Q8q\ngxu1uwf2NSdZ9uoJ8vV24EsTLLsyN6INKuTfTjSzlPLpJEdSD6aPBX6c5D2llL2nWe9wvldW4dYV\n4GT7amXX3zV8o2TB7qBaRBZhPTET9TJzKT9rfe13pnbBOhD4eZLHtWDj8cD21G5ZLwLek3pD8M9n\nsK2Lp6gbTqF2nxo2uAD1H9Qr+K+ntlZcA3yG6eu0m+l3vLuurHjT9OAY9XLq9zAb7kvd3+dONLOU\nsneSg4AnUL+HvZK8vJQyfKFm2GzUDbeqQ5PMZr0AU9QNpZTSgsclWzcYQCw+p1B/kDux4pWPgUcA\nPy2ldMfS33KC5R6QZL1SyuAfdXtqk/BvJtnu9dQm2JXZFnDLqDcrHGyT/Ib6T/dQ2glq6yN6/05e\n7k0NGN5USjmnLTOKK9Az9TNgY+DmUsqEJ9fUffT1Uspn4Zb7Jv6W5fcIwMT7dnCiv0nn/XB/y6ny\nde9JKrYZaS0or6F+F5MOUVhKOZ/aB/WTreXj1dRm4OvbIsPlm4ntJ5j+VWf6Mjr9g1NvhBzuL3xD\njzz8itrNrdva9Ajg9JlkVloAllQ9MYHftG3tMMhLO1Y9nNrvfrCuK4FDgEPaTbrHAX8DnFlqP5Of\nAD9J8g7gl9SW4pkEEJP5GfAc4A+llMmG/X4E8JlSB6sgyaDl+szOMpPVDesmuV0pZXChatq6oZRy\nSZILgS1LKZ/pX5SJtb79Lwe+N1XLTSnlLGqAtF9r+XgxtaV3tuqG/YemB3VDtw4dGN5P0+ahlHJF\n2287UFtRBsa+bjCAWGRKKWcmOZjaLPhq6oFqM2DzdpJ6JrBHkidQD8K7UW/i+tPQqtag3vz5Dmrz\n3Hup/Qkni/zPpXaL2Zx6Ff2PM9jWVOW5Ksn+wPuS/IHaveYt1MpvEN3/jtrv9lVJ/pva1eSdfbcx\nQt+hNmsemuTfgV9TuwjtQu3f+wPqPvrH1NFB/gD8C7Vp++TOes7l1vv2bOqNZnsn2ZPax/ItPfP1\nDuDwJOcBB1Obsu9P7af679N8dqMka1DvTXkg8G/U7hBPLJMMAZhkX2qXgzOpQ/ztwvID66XUfsI7\np45+dG2Z+dCP2yd5I/VEYEfqTXXP7cz/LnXklx8DN1FbeK4dWse5wGOSfI96ZW6i3+gHqCM1nQR8\nu5XjuYymu5Q0MkutnpigfFe3k9FBvXEO9Vi1Me1ZAUleS61PTqFeQPgnauvH+Um2p7aWHklt4Xgw\ntXvPbJ0QHkRtWTg0yduoddjdgF2Bj7eT6jOBpyc5tOVvL2oXpq5zgb9P8jnqcesPwE+pV+jfk+TD\n1Bt2+94EvRfwX6nPMjqC2nLxEGDTUsp7pvhc2o3nALdn+TCut+fWXTwHH1iH2srypVaOjWnBZFvk\nPGod/6QkXwf+OtRdro9nJDmB2iX4WdSWpodBDUSTHAe8oV2ovD11UJWuvvXTB4B3JDmL2r1qd2rP\ng5UZ1XHJWLJNK0vc86lXWfajnrQeQP3nAPgE9aTx/6ijAGxOHeVo2PeoV1yOoY4o8F1gqpPL/6BG\n66dTI/u7z2Bb03k9tTvSYS0/p1Kbsa8FaFc3llFvBD6dehB87UpsZ1a1K1hPpO67/6GO8HEwcC+W\n9398F/X+jm9Sb26+mlq5dN1q35b6LIfdqF28fk7tkvSmnvk6ktoPdKe27eOp92H8rsfHf0mtdE+m\nBiInAw8Y0nTYAAAfqUlEQVQspXx/is+sBvxXy/9R1Ap5WcvLjdTRUF5M3SeH9inDkA9Rg5mTqfvz\nbaWUQzrzX0dtvTqWGmR8iloxMLTMTtSg7GQmUEr5GjXA+7dWllcDryilfH0l8izNt6VWTwx7A3UU\ntP+lBgkPpN40PrjH60rqPQrHUwOorYEnlFKuAf5CvaJ8OPXq+AeBd5Y6POkqa9t4JPW49CXq/j8Q\n2IDlgdNrqcepH1Drh+Pa+663UQOP39CuqJf6rJznUkdvOhV4KXW0pT75+hT1Bu/nUeuVH7TPnzPN\nR9el1gsXUvfna4GvA/cv7RkQE7iJWt4DqHXjV6ktPq9tebmAWpfvQ60zVuYBhHtTR3P6BfDPwAtK\nKSd05r+w/T2B+jtc4SLcDOqn/ahBxPup920+nTp4yWy0Vi1aqedAGietKffOpZQnT7fsfEiyNvXq\nxAdKKbNR0UiSZmCh1xOS5pddmDTvkjyY2i3peOC21CtLt6VeXZIkSdICMm9dmJIclOSMJKcl2X9w\nd3yq/VKfAvuLdJ4cnGSX9pmzW7/wQfodU5/+d1b7u8F8lEmr5LXUriXfpfaVfGS7MVfSmLF+kKSF\nbWQBRI+D9EHU0XUeQB0X+sUt/QnUh+BsRe2b97G2vtWB/27z7ws8J8lgeMk9gaNLKVtR75K/pfLQ\nrZVS9lhIzdKllJNLKduWUm5bStmglLJTz+cISFqErB8WvoVWT0haWEbZAnFiu4r06DZ05QpKKUeU\nhtp1ZbM2a1fq0GallHIccIfUR9NvB5xdSvltKeV66tN8d+185sD2/kDqzbaSpIXJ+kGSFrFR3gPx\nt9SrQa8C/jvJZ4EDSikXdhdqTdPPo454AvVpvb/vLHJ+S5so/WHt/cadkRcupnaBuZUkL6VetWK9\n9dbb5t73vveMC3XS5ZfPaPlt7nSnGW9DkkbppJNO+kMpZcN5zMKSrB9gZnWE9YOkhaZv/TCyAKKN\nGX84dTz6Danj7/4uyd+VUo7vLPpR4PttzPzZ2G5JMuHQUqWUT1IfdsW2225bTjzxxBmvPwceOP1C\nHScuWzbjbUjSKLVnhMybpVo/wMzqCOsHSQtN3/phpKMwJbk9dSz7PahjQ7+QOl7vYP5ewIbAyzof\nu4A67vHAZi1tzUnSAS5Jskkp5aLWnD08BrwkaQGxfpCkxWuUN1F/jvrwli2A55dSHlVK+Uwp5do2\n/8XAzsBzSik3dz56GPD8NtrG9sBfWvPzCcBWSbZIsha14jms85nBpZxlrNzDqiRJc8D6QZIWt1G2\nQBwM7NGe9DeRj1MfFvaTdg/dV0op76A+Xv2J1EfeXwO8AOoTA5O8ivro+dWB/Uspv2zrei9wcJIX\ntXU+ezRFkiTNAusHSVrERnkPxGHTzJ9w223UjVdOMu8IagUynH458JiVyKYkaY5ZP0jS4jZvD5KT\nJEmStPgYQEiSJEnqzQBCkiRJUm8GEJIkSZJ6M4CQJEmS1JsBhCRJkqTeDCAkSZIk9WYAIUmSJKk3\nAwhJkiRJvRlASJIkSerNAEKSJElSbwYQkiRJknozgJAkSZLUmwGEJEmSpN4MICRJkiT1ZgAhSZIk\nqTcDCEmSJEm9GUBIkiRJ6s0AQpIkSVJvBhCSJEmSejOAkCRJktSbAYQkSZKk3gwgJEmSJPVmACFJ\nkiSpNwMISZIkSb0ZQEiSJEnqzQBCkiRJUm8GEJIkSZJ6M4CQJEmS1JsBhCRJkqTeDCAkSZIk9WYA\nIUmSJKk3AwhJkiRJvRlASJIkSerNAEKSJElSbwYQkiRJknozgJAkSZLUmwGEJEmSpN4MICRJkiT1\nZgAhSZIkqTcDCEmSJEm9GUBIkiRJ6s0AQpIkSVJvBhCSJEmSejOAkCRJktSbAYQkSZKk3gwgJEmS\nJPVmACFJkiSpNwMISZIkSb0ZQEiSJEnqzQBCkiRJUm8GEJIkSZJ6M4CQJEmS1JsBhCRJkqTeDCAk\nSZIk9WYAIUmSJKk3AwhJkiRJvRlASJIkSerNAEKSJElSbwYQkiRJknozgJAkSZLUmwGEJEmSpN4M\nICRJkiT1Nq8BRJL9k1ya5LRO2t5JLkhySns9sTPvjUnOTnJGkp076dskObXN2y9J5roskqTZY/0g\nSQvXfLdAHADsMkH6h0spW7fXEQBJ7gvsBtyvfeajSVZvy38MeAmwVXtNtE5J0uJxANYPkrQgzWsA\nUUr5PvDHnovvCnyhlHJdKeUc4GxguySbALcrpRxXSinAZ4CnjSbHkqS5YP0gSQvXGvOdgUn8S5Ln\nAycCryul/AnYFDius8z5Le2G9n44fUHIgQfOaPmybNmIciJJS8KSqR8kabGa7y5ME/kYcE9ga+Ai\n4IOzteIkL01yYpITL7vsstlarSRpblg/SNICsOACiFLKJaWUm0opNwP/A2zXZl0A3K2z6GYt7YL2\nfjh9onV/spSybSll2w033HD2My9JGhnrB0laGBZcANH6rA48HRiMwHEYsFuStZNsQb0Z7vhSykXA\nFUm2b6NrPB84dE4zLUkaOesHSVoY5vUeiCSfB3YE7pzkfGAvYMckWwMFOBd4GUAp5ZdJDgZOB24E\nXllKuamt6hXUETvWAb7ZXpKkRcr6QZIWrnkNIEopz5kg+dNTLL8PsM8E6ScC95/FrEmS5pH1gyQt\nXAuuC5MkSZKkhcsAQpIkSVJvBhCSJEmSejOAkCRJktSbAYQkSZKk3gwgJEmSJPVmACFJkiSpNwMI\nSZIkSb0ZQEiSJEnqzQBCkiRJUm8GEJIkSZJ6M4CQJEmS1JsBhCRJkqTeDCAkSZIk9WYAIUmSJKk3\nAwhJkiRJvRlASJIkSerNAEKSJElSbwYQkiRJknozgJAkSZLUmwGEJEmSpN6mDSCS7JBkvfZ+9yQf\nSnKP0WdNkrSQWT9I0njq0wLxMeCaJA8CXgf8BvjMSHMlSVoMrB8kaQz1CSBuLKUUYFfgI6WU/wZu\nO9psSZIWAesHSRpDa/RY5sokbwR2Bx6ZZDVgzdFmS5K0CFg/SNIY6tMC8Y/AdcCLSikXA5sBHxhp\nriRJi4H1gySNoWlbIFql8KHO9O+wj6skjT3rB0kaT5MGEEmuBMpk80sptxtJjiRJC5r1gySNt0kD\niFLKbQGSvBO4CPgsEOC5wCZzkjtJ0oJj/SBJ463PPRBPLaV8tJRyZSnlilLKx6gjbkiSxpv1gySN\noT4BxNVJnptk9SSrJXkucPWoMyZJWvCsHyRpDPUJIP4JeDZwSXv9Q0uTJI036wdJGkNTjsKUZHXg\n6aUUm6QlSbewfpCk8TVlC0Qp5SbgOXOUF0nSImH9IEnjq8+TqH+U5CPAF+n0bS2l/GxkuZIkLQbW\nD5I0hvoEEFu3v+/opBXg0bOfHUnSImL9IEljqM+TqHeai4xIkhYX6wdJGk/TjsKU5PZJPpTkxPb6\nYJLbz0XmJEkLl/WDJI2nPsO47g9cSR2q79nAFcD/jjJTkqRFwfpBksZQn3sgtiylPLMz/fYkp4wq\nQ5KkRcP6QZLGUJ8WiL8mecRgIskOwF9HlyVJ0iJh/SBJY6hPC8Q/Awd2+rX+CdhjZDmSJC0W1g+S\nNIb6jMJ0CvCgJLdr01eMPFeSpAXP+kGSxlOfUZjeneQOpZQrSilXJNkgybvmInOSpIXL+kGSxlOf\neyCeUEr582CilPIn4Imjy5IkaZGwfpCkMdQngFg9ydqDiSTrAGtPsbwkaTxYP0jSGOpzE/VBwNFJ\nBmN7vwA4cHRZkiQtEtYPkjSG+txE/b4kPwce25LeWUo5crTZkiQtdNYPkjSe+rRAAPwKuLGU8p0k\n6ya5bSnlylFmTJK0KFg/SNKY6TMK00uAQ4BPtKRNga+NMlOSpIXP+kGSxlOfm6hfCewAXAFQSjkL\n2GiUmZIkLQrWD5I0hvoEENeVUq4fTCRZAyijy5IkaZGwfpCkMdQngPhekjcB6yR5HPAl4OujzZYk\naRGwfpCkMdQngNgTuAw4FXgZcATwllFmSpK0KFg/SNIY6jOM683A/7QXAEl2AH40wnxJkhY46wdJ\nGk+TBhBJVgeeTR1V41ullNOSPBl4E7AO8OC5yaIkaSGxfpCk8TZVC8SngbsBxwP7JbkQ2BbYs5Ti\nMH2SNL6sHyRpjE0VQGwLPLCUcnOS2wAXA1uWUi6fm6xJkhYo6wdJGmNT3UR9fevfSinlWuC3Vg6S\nJKwfJGmsTdUCce8kv2jvA2zZpgOUUsoDR547SdJCZP0gSWNsqgDiPnOWC0nSYmL9IEljbNIAopRy\n3lxmRJK0OFg/SNJ46/MgOUmSJEkCDCAkSZIkzcCkAUSSo9vf941q40n2T3JpktM6aXdMclSSs9rf\nDTrz3pjk7CRnJNm5k75NklPbvP2SZFR5lqRxZ/0gSeNtqhaITZL8HfDUJA9O8pDua5a2fwCwy1Da\nnsDRpZStgKPbNEnuC+wG3K995qPtaagAHwNeAmzVXsPrlCTNHusHSRpjU43C9DbgrcBmwIeG5hXg\n0au68VLK95NsPpS8K7Bje38gcCzwhpb+hVLKdcA5Sc4GtktyLnC7UspxAEk+AzwN+Oaq5k+SNCHr\nB0kaY1ONwnQIcEiSt5ZS3jmHedq4lHJRe38xsHF7vylwXGe581vaDe39cLokaQSsHyRpvE3VAgFA\nKeWdSZ4KPLIlHVtKOXy02bpl2yVJma31JXkp8FKAu9/97rO1WkkaS9YPkjSeph2FKcl7gFcDp7fX\nq5O8e4R5uiTJJm3bmwCXtvQLgLt1ltuspV3Q3g+n30op5ZOllG1LKdtuuOGGs55xSRon1g+SNJ76\nDOP6JOBxpZT9Syn7U29Ae/II83QYsKy9XwYc2knfLcnaSbag3gx3fGvOviLJ9m10jed3PiNJGh3r\nB0kaQ9N2YWruAPyxvb/9bG08yeepN8TdOcn5wF7Ae4GDk7wIOA94NkAp5ZdJDqZe5boReGUp5aa2\nqldQR+xYh3pznDfISdLcsH6QpDHTJ4B4D3BykmOAUPu67jkbGy+lPGeSWY+ZZPl9gH0mSD8RuP9s\n5EmS1Jv1gySNoT43UX8+ybHAQ1vSG0opF480V5KkBc/6QZLGU68uTK0f6WEjzoskaZGxfpCk8dPn\nJmpJkiRJAgwgJEmSJM3AlAFEktWT/HquMiNJWhysHyRpfE0ZQLRh8M5I4mM5JUm3sH6QpPHV5ybq\nDYBfJjkeuHqQWEp56shyJUlaDKwfJGkM9Qkg3jryXEiSFiPrB0kaQ32eA/G9JPcAtiqlfCfJusDq\no8+aJGkhs36QpPE07ShMSV4CHAJ8oiVtCnxtlJmSJC181g+SNJ76DOP6SmAH4AqAUspZwEajzJQk\naVGwfpCkMdQngLiulHL9YCLJGkAZXZYkSYuE9YMkjaE+AcT3krwJWCfJ44AvAV8fbbYkSYuA9YMk\njaE+AcSewGXAqcDLgCOAt4wyU5KkRcH6QZLGUJ9RmG5OciDwU2rT9BmlFJuoJWnMWT9I0niaNoBI\n8iTg48BvgABbJHlZKeWbo86cJGnhsn6QpPHU50FyHwR2KqWcDZBkS+AbgBWEJI036wdJGkN97oG4\nclA5NL8FrhxRfiRJi4f1gySNoUlbIJI8o709MckRwMHUPq7/AJwwB3mTJC1A1g+SNN6m6sL0lM77\nS4BHtfeXAeuMLEeSpIXO+kGSxtikAUQp5QVzmRFJ0uJg/SBJ463PKExbAP8CbN5dvpTy1NFlS5K0\n0Fk/SNJ46jMK09eAT1OfLnrzaLMjSVpErB8kaQz1CSCuLaXsN/KcSJIWG+sHSRpDfQKIfZPsBXwb\nuG6QWEr52chyJUlaDKwfJGkM9QkgHgA8D3g0y5uoS5uWJI0v6wdJGkN9Aoh/AO5ZSrl+1JmRJC0q\n1g+SNIb6PIn6NOAOo86IJGnRsX6QpDHUpwXiDsCvk5zAin1cHaZPksab9YMkjaE+AcReI8+FJGkx\nsn6QpDE0bQBRSvneXGREkrS4WD9I0njq8yTqK6mjagCsBawJXF1Kud0oMyZJWtisHyRpPPVpgbjt\n4H2SALsC248yU5Kkhc/6QZLGU59RmG5Rqq8BO48oP5KkRcj6QZLGR58uTM/oTK4GbAtcO7IcSZIW\nBesHSRpPfUZhekrn/Y3AudRmaknSeLN+kKQx1OceiBfMRUYkSYuL9YMkjadJA4gkb5vic6WU8s4R\n5EeStMBZP0jSeJuqBeLqCdLWA14E3AmwgpCk8WT9IEljbNIAopTywcH7JLcFXg28APgC8MHJPidJ\nWtqsHyRpvE15D0SSOwKvBZ4LHAg8pJTyp7nImCRp4bJ+kKTxNdU9EB8AngF8EnhAKeWqOcuVJGnB\nsn6QpPE2VQvE64DrgLcAb64PGQUg1JvkbjfivEmSFibrB42FHHjgjJYvy5aNKCfSwjLVPRAzekq1\nJGk8WD9I0nizEpAkSZLUmwGEJEmSpN4MICRJkiT1NuUwrlrYvLlLkiRJc80WCEmSJEm9GUBIkiRJ\n6s0AQpIkSVJvBhCSJEmSejOAkCRJktSbAYQkSZKk3gwgJEmSJPVmACFJkiSpNwMISZIkSb0ZQEiS\nJEnqzQBCkiRJUm8GEJIkSZJ6M4CQJEmS1JsBhCRJkqTeDCAkSZIk9WYAIUmSJKm3BRtAJDk3yalJ\nTklyYku7Y5KjkpzV/m7QWf6NSc5OckaSnecv55KkUbJ+kKT5tWADiGanUsrWpZRt2/SewNGllK2A\no9s0Se4L7AbcD9gF+GiS1ecjw5KkOWH9IEnzZKEHEMN2BQ5s7w8EntZJ/0Ip5bpSyjnA2cB285A/\nSdL8sH6QpDmykAOIAnwnyUlJXtrSNi6lXNTeXwxs3N5vCvy+89nzW9oKkrw0yYlJTrzssstGlW9J\n0mhZP0jSPFpjvjMwhUeUUi5IshFwVJJfd2eWUkqSMpMVllI+CXwSYNttt53RZyVJC4b1gyTNowXb\nAlFKuaD9vRT4KrXJ+ZIkmwC0v5e2xS8A7tb5+GYtTZK0xFg/SNL8WpABRJL1ktx28B54PHAacBiw\nrC22DDi0vT8M2C3J2km2ALYCjp/bXEuSRs36QZLm30LtwrQx8NUkUPP4f6WUbyU5ATg4yYuA84Bn\nA5RSfpnkYOB04EbglaWUm+Yn65KkEbJ+kKR5tiADiFLKb4EHTZB+OfCYST6zD7DPiLMmSZpH1g+S\nNP8WZBcmSZIkSQuTAYQkSZKk3hZkFyZJkqTZlgMPnH4hSdOyBUKSJElSb7ZASJIkzYKZtHCUZcum\nX0haoGyBkCRJktSbAYQkSZKk3gwgJEmSJPVmACFJkiSpNwMISZIkSb0ZQEiSJEnqzQBCkiRJUm8G\nEJIkSZJ6M4CQJEmS1JsBhCRJkqTeDCAkSZIk9WYAIUmSJKk3AwhJkiRJvRlASJIkSerNAEKSJElS\nbwYQkiRJknozgJAkSZLUmwGEJEmSpN4MICRJkiT1ZgAhSZIkqTcDCEmSJEm9GUBIkiRJ6s0AQpIk\nSVJvBhCSJEmSejOAkCRJktSbAYQkSZKk3gwgJEmSJPVmACFJkiSpNwMISZIkSb2tMd8ZkCRVOfDA\n3suWZctGmBNJkiZnC4QkSZKk3gwgJEmSJPVmACFJkiSpN++BWGBm0gdakiRJmmu2QEiSJEnqzQBC\nkiRJUm8GEJIkSZJ68x4ISZK0aHnvoDT3bIGQJEmS1JsBhCRJkqTeDCAkSZIk9WYAIUmSJKk3AwhJ\nkiRJvTkKkyRJ0gI309GmyrJlI8qJZAuEJEmSpBmwBUKSJGmO+fwKLWa2QEiSJEnqzQBCkiRJUm8G\nEJIkSZJ6M4CQJEmS1JsBhCRJkqTeHIVJs8LxqSVJksaDLRCSJEmSejOAkCRJktSbXZgkSZKWmJl0\nLbZbsWbKAEKT8imZkiRJGmYXJkmSJEm9GUBIkiRJ6m3JdGFKsguwL7A68KlSynvnOUuSpAXA+mFx\nsfustPAtiQAiyerAfwOPA84HTkhyWCnl9PnNmSRpPo1r/eCzeSSN0pIIIIDtgLNLKb8FSPIFYFdg\nSVcQkqRpLdj6YVxO8m1RWHoc4UlLJYDYFPh9Z/p84GHzlBeNwCgPVuNSiUtjyvphBAwK1NdirmMX\nc95HLaWU+c7DKkvyLGCXUsqL2/TzgIeVUl41tNxLgZe2yXsBZ6zE5u4M/GEVsruYjEtZLefSYjmn\nd49SyoazmZmFao7rBxif39903A/LuS+Wc18st1D3Ra/6Yam0QFwA3K0zvVlLW0Ep5ZPAJ1dlQ0lO\nLKVsuyrrWCzGpayWc2mxnBoyZ/UD+L0MuB+Wc18s575YbrHvi6UyjOsJwFZJtkiyFrAbcNg850mS\nNP+sHyRpli2JFohSyo1JXgUcSR2mb/9Syi/nOVuSpHlm/SBJs29JBBAApZQjgCPmYFOr3MS9iIxL\nWS3n0mI5tYI5rB/A72XA/bCc+2I598Vyi3pfLImbqCVJkiTNjaVyD4QkSZKkOWAAMQNJdklyRpKz\nk+w53/npI8ndkhyT5PQkv0zy6pZ+xyRHJTmr/d2g85k3tjKekWTnTvo2SU5t8/ZLkpa+dpIvtvSf\nJtl8rsvZ8rF6kpOTHN6ml1wZW17ukOSQJL9O8qskD1+KZU3yb+03e1qSzye5zVIoZ5L9k1ya5LRO\n2pyUK8myto2zkozPgOVzIIuwfpipUf92F4vMQb26WLTj8vFJft72xdtb+tjtCxjteciCU0rx1eNF\nvfnuN8A9gbWAnwP3ne989cj3JsBD2vvbAmcC9wXeD+zZ0vcE3tfe37eVbW1gi1bm1du844HtgQDf\nBJ7Q0l8BfLy93w344jyV9bXA/wGHt+klV8a2/QOBF7f3awF3WGplpT786xxgnTZ9MLDHUign8Ejg\nIcBpnbSRlwu4I/Db9neD9n6D+fodL6UXi7R+WIlyjvS3u1hezEG9ulheLd/rt/drAj9t5Rm7fdHK\nMLLzkIX2mvcMLJYX8HDgyM70G4E3zne+VqIchwKPoz4kaZOWtglwxkTloo5c8vC2zK876c8BPtFd\npr1fg/pglMxxuTYDjgYe3fnHXVJlbNu+PfXEOkPpS6qsLH968B1bHg4HHr9UyglszoonYSMvV3eZ\nNu8TwHPm+je8FF8skfqhZ1lH9ttdrC9GUK8uxhewLvAz6pPex25fMOLzkIX2sgtTf4MTmoHzW9qi\n0boyPJh6hWDjUspFbdbFwMbt/WTl3LS9H05f4TOllBuBvwB3mvUCTO0/gX8Hbu6kLbUyQr1ScRnw\nv62Z9FNJ1mOJlbWUcgHwH8DvgIuAv5RSvs0SK2fHXJRr0R/DFrBx3rez+dtddEZYry4ardvOKcCl\nwFGllHHdF6M+D1lQDCDGRJL1gS8DrymlXNGdV2qYW+YlY7MgyZOBS0spJ022zGIvY8ca1C4EHyul\nPBi4mtoseoulUNbWT3RXasB0V2C9JLt3l1kK5ZzIUi2Xlr5x++0u5Xp1JkopN5VStqZegd8uyf2H\n5i/5fTFm5yGAAcRMXADcrTO9WUtb8JKsST3IHVRK+UpLviTJJm3+JtQrBzB5OS9o74fTV/hMkjWo\n3Wwun/2STGoH4KlJzgW+ADw6yedYWmUcOB84v13hATiEGlAstbI+FjinlHJZKeUG4CvA37H0yjkw\nF+VatMewRWCc9+1s/nYXjTmoVxedUsqfgWOAXRi/fTEX5yELigFEfycAWyXZIsla1JsTD5vnPE2r\n3b3/aeBXpZQPdWYdBixr75dR+3AO0ndLHcllC2Ar4PjWBHdFku3bOp8/9JnBup4FfLdF2nOilPLG\nUspmpZTNqd/Ld0spu7OEyjhQSrkY+H2Se7WkxwCns/TK+jtg+yTrtvw9BvgVS6+cA3NRriOBxyfZ\noLXwPL6ladUtyvphlszmb3dRmKN6dVFIsmGSO7T361DvBfk1Y7Yv5ug8ZGGZ75swFtMLeCJ1tIXf\nAG+e7/z0zPMjqE1mvwBOaa8nUvtEHw2cBXwHuGPnM29uZTyDzt3/wLbAaW3eR1j+IMLbAF8CzqaO\nHnDPeSzvjiy/eWmplnFr4MT2nX6NOqLOkisr8HZqRXQa8FnqaBWLvpzA56n3ddxAbVF60VyVC3hh\nSz8beMF8/YaX4otFWD+sRBlH+ttdLC/moF5dLC/ggcDJbV+cBrytpY/dvuiUY0dGcB6y0F4+iVqS\nJElSb3ZhkiRJktSbAYQkSZKk3gwgJEmSJPVmACFJkiSpNwMISZIkSb0ZQEirIMkxSXYeSntNko9N\n8ZmrRp8zSdJ8sn7QUmYAIa2az1MfGtO1W0uXJI0v6wctWQYQ0qo5BHhSe/osSTYH7gqcnOToJD9L\ncmqSXYc/mGTHJId3pj+SZI/2fpsk30tyUpIjk2wyF4WRJM0a6wctWQYQ0ioopfyR+rTfJ7Sk3YCD\ngb8CTy+lPATYCfhgeyz9tJKsCfwX8KxSyjbA/sA+s513SdLoWD9oKVtjvjMgLQGDZupD298XAQHe\nneSRwM3ApsDGwMU91ncv4P7AUa1OWR24aPazLUkaMesHLUkGENKqOxT4cJKHAOuWUk5qTc0bAtuU\nUm5Ici5wm6HP3ciKrYCD+QF+WUp5+GizLUkaMesHLUl2YZJWUSnlKuAYalPy4Oa42wOXtsphJ+Ae\nE3z0POC+SdZOcgfgMS39DGDDJA+H2mSd5H4jLYQkadZZP2ipsgVC/7+dOzZBAIaiKPr+BC7nYOIO\nIthYuIZgoYKdhVvYxEJBsPqFIso5ZSCQFCFcCOE9lknWef64sUiyqap9km2S0+uEMcalqlZJDknO\nSXaP8WtVTZPMq2qS+zmdJTl+fBcAvJv7gb9TY4xvrwEAAPgRnjABAABtAgIAAGgTEAAAQJuAAAAA\n2gQEAADQJiAAAIA2AQEAALQJCAAAoO0Ga7UEP7pgqRcAAAAASUVORK5CYII=\n",
      "text/plain": [
       "<matplotlib.figure.Figure at 0x11a16f310>"
      ]
     },
     "metadata": {},
     "output_type": "display_data"
    }
   ],
   "source": [
    "# Split the data into features and target label\n",
    "income_raw = data['income']\n",
    "features_raw = data.drop('income', axis = 1)\n",
    "\n",
    "# Visualize skewed continuous features of original data\n",
    "vs.distribution(data)"
   ]
  },
  {
   "cell_type": "markdown",
   "metadata": {},
   "source": [
    "For highly-skewed feature distributions such as `'capital-gain'` and `'capital-loss'`, it is common practice to apply a <a href=\"https://en.wikipedia.org/wiki/Data_transformation_(statistics)\">logarithmic transformation</a> on the data so that the very large and very small values do not negatively affect the performance of a learning algorithm. Using a logarithmic transformation significantly reduces the range of values caused by outliers. Care must be taken when applying this transformation however: The logarithm of `0` is undefined, so we must translate the values by a small amount above `0` to apply the the logarithm successfully.\n",
    "\n",
    "Run the code cell below to perform a transformation on the data and visualize the results. Again, note the range of values and how they are distributed. "
   ]
  },
  {
   "cell_type": "code",
   "execution_count": 60,
   "metadata": {
    "collapsed": false
   },
   "outputs": [
    {
     "data": {
      "image/png": "iVBORw0KGgoAAAANSUhEUgAAAxAAAAF2CAYAAAD+y36TAAAABHNCSVQICAgIfAhkiAAAAAlwSFlz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\nlt95AAAAAElFTkSuQmCC\n",
      "text/plain": [
       "<matplotlib.figure.Figure at 0x11ce3a7d0>"
      ]
     },
     "metadata": {},
     "output_type": "display_data"
    }
   ],
   "source": [
    "# Log-transform the skewed features\n",
    "skewed = ['capital-gain', 'capital-loss']\n",
    "features_log_transformed = pd.DataFrame(data = features_raw)\n",
    "features_log_transformed[skewed] = features_raw[skewed].apply(lambda x: np.log(x + 1))\n",
    "\n",
    "# Visualize the new log distributions\n",
    "vs.distribution(features_log_transformed, transformed = True)"
   ]
  },
  {
   "cell_type": "markdown",
   "metadata": {},
   "source": [
    "### Normalizing Numerical Features\n",
    "In addition to performing transformations on features that are highly skewed, it is often good practice to perform some type of scaling on numerical features. Applying a scaling to the data does not change the shape of each feature's distribution (such as `'capital-gain'` or `'capital-loss'` above); however, normalization ensures that each feature is treated equally when applying supervised learners. Note that once scaling is applied, observing the data in its raw form will no longer have the same original meaning, as exampled below.\n",
    "\n",
    "Run the code cell below to normalize each numerical feature. We will use [`sklearn.preprocessing.MinMaxScaler`](http://scikit-learn.org/stable/modules/generated/sklearn.preprocessing.MinMaxScaler.html) for this."
   ]
  },
  {
   "cell_type": "code",
   "execution_count": 61,
   "metadata": {
    "collapsed": false
   },
   "outputs": [
    {
     "data": {
      "text/html": [
       "<div>\n",
       "<table border=\"1\" class=\"dataframe\">\n",
       "  <thead>\n",
       "    <tr style=\"text-align: right;\">\n",
       "      <th></th>\n",
       "      <th>age</th>\n",
       "      <th>workclass</th>\n",
       "      <th>education_level</th>\n",
       "      <th>education-num</th>\n",
       "      <th>marital-status</th>\n",
       "      <th>occupation</th>\n",
       "      <th>relationship</th>\n",
       "      <th>race</th>\n",
       "      <th>sex</th>\n",
       "      <th>capital-gain</th>\n",
       "      <th>capital-loss</th>\n",
       "      <th>hours-per-week</th>\n",
       "      <th>native-country</th>\n",
       "    </tr>\n",
       "  </thead>\n",
       "  <tbody>\n",
       "    <tr>\n",
       "      <th>0</th>\n",
       "      <td>0.301370</td>\n",
       "      <td>State-gov</td>\n",
       "      <td>Bachelors</td>\n",
       "      <td>0.800000</td>\n",
       "      <td>Never-married</td>\n",
       "      <td>Adm-clerical</td>\n",
       "      <td>Not-in-family</td>\n",
       "      <td>White</td>\n",
       "      <td>Male</td>\n",
       "      <td>0.667492</td>\n",
       "      <td>0.0</td>\n",
       "      <td>0.397959</td>\n",
       "      <td>United-States</td>\n",
       "    </tr>\n",
       "    <tr>\n",
       "      <th>1</th>\n",
       "      <td>0.452055</td>\n",
       "      <td>Self-emp-not-inc</td>\n",
       "      <td>Bachelors</td>\n",
       "      <td>0.800000</td>\n",
       "      <td>Married-civ-spouse</td>\n",
       "      <td>Exec-managerial</td>\n",
       "      <td>Husband</td>\n",
       "      <td>White</td>\n",
       "      <td>Male</td>\n",
       "      <td>0.000000</td>\n",
       "      <td>0.0</td>\n",
       "      <td>0.122449</td>\n",
       "      <td>United-States</td>\n",
       "    </tr>\n",
       "    <tr>\n",
       "      <th>2</th>\n",
       "      <td>0.287671</td>\n",
       "      <td>Private</td>\n",
       "      <td>HS-grad</td>\n",
       "      <td>0.533333</td>\n",
       "      <td>Divorced</td>\n",
       "      <td>Handlers-cleaners</td>\n",
       "      <td>Not-in-family</td>\n",
       "      <td>White</td>\n",
       "      <td>Male</td>\n",
       "      <td>0.000000</td>\n",
       "      <td>0.0</td>\n",
       "      <td>0.397959</td>\n",
       "      <td>United-States</td>\n",
       "    </tr>\n",
       "    <tr>\n",
       "      <th>3</th>\n",
       "      <td>0.493151</td>\n",
       "      <td>Private</td>\n",
       "      <td>11th</td>\n",
       "      <td>0.400000</td>\n",
       "      <td>Married-civ-spouse</td>\n",
       "      <td>Handlers-cleaners</td>\n",
       "      <td>Husband</td>\n",
       "      <td>Black</td>\n",
       "      <td>Male</td>\n",
       "      <td>0.000000</td>\n",
       "      <td>0.0</td>\n",
       "      <td>0.397959</td>\n",
       "      <td>United-States</td>\n",
       "    </tr>\n",
       "    <tr>\n",
       "      <th>4</th>\n",
       "      <td>0.150685</td>\n",
       "      <td>Private</td>\n",
       "      <td>Bachelors</td>\n",
       "      <td>0.800000</td>\n",
       "      <td>Married-civ-spouse</td>\n",
       "      <td>Prof-specialty</td>\n",
       "      <td>Wife</td>\n",
       "      <td>Black</td>\n",
       "      <td>Female</td>\n",
       "      <td>0.000000</td>\n",
       "      <td>0.0</td>\n",
       "      <td>0.397959</td>\n",
       "      <td>Cuba</td>\n",
       "    </tr>\n",
       "  </tbody>\n",
       "</table>\n",
       "</div>"
      ],
      "text/plain": [
       "        age          workclass education_level  education-num  \\\n",
       "0  0.301370          State-gov       Bachelors       0.800000   \n",
       "1  0.452055   Self-emp-not-inc       Bachelors       0.800000   \n",
       "2  0.287671            Private         HS-grad       0.533333   \n",
       "3  0.493151            Private            11th       0.400000   \n",
       "4  0.150685            Private       Bachelors       0.800000   \n",
       "\n",
       "        marital-status          occupation    relationship    race      sex  \\\n",
       "0        Never-married        Adm-clerical   Not-in-family   White     Male   \n",
       "1   Married-civ-spouse     Exec-managerial         Husband   White     Male   \n",
       "2             Divorced   Handlers-cleaners   Not-in-family   White     Male   \n",
       "3   Married-civ-spouse   Handlers-cleaners         Husband   Black     Male   \n",
       "4   Married-civ-spouse      Prof-specialty            Wife   Black   Female   \n",
       "\n",
       "   capital-gain  capital-loss  hours-per-week  native-country  \n",
       "0      0.667492           0.0        0.397959   United-States  \n",
       "1      0.000000           0.0        0.122449   United-States  \n",
       "2      0.000000           0.0        0.397959   United-States  \n",
       "3      0.000000           0.0        0.397959   United-States  \n",
       "4      0.000000           0.0        0.397959            Cuba  "
      ]
     },
     "metadata": {},
     "output_type": "display_data"
    }
   ],
   "source": [
    "# Import sklearn.preprocessing.StandardScaler\n",
    "from sklearn.preprocessing import MinMaxScaler\n",
    "\n",
    "# Initialize a scaler, then apply it to the features\n",
    "scaler = MinMaxScaler() # default=(0, 1)\n",
    "numerical = ['age', 'education-num', 'capital-gain', 'capital-loss', 'hours-per-week']\n",
    "\n",
    "features_log_minmax_transform = pd.DataFrame(data = features_log_transformed)\n",
    "features_log_minmax_transform[numerical] = scaler.fit_transform(features_log_transformed[numerical])\n",
    "\n",
    "# Show an example of a record with scaling applied\n",
    "display(features_log_minmax_transform.head(n = 5))"
   ]
  },
  {
   "cell_type": "markdown",
   "metadata": {},
   "source": [
    "### Implementation: Data Preprocessing\n",
    "\n",
    "From the table in **Exploring the Data** above, we can see there are several features for each record that are non-numeric. Typically, learning algorithms expect input to be numeric, which requires that non-numeric features (called *categorical variables*) be converted. One popular way to convert categorical variables is by using the **one-hot encoding** scheme. One-hot encoding creates a _\"dummy\"_ variable for each possible category of each non-numeric feature. For example, assume `someFeature` has three possible entries: `A`, `B`, or `C`. We then encode this feature into `someFeature_A`, `someFeature_B` and `someFeature_C`.\n",
    "\n",
    "|   | someFeature |                    | someFeature_A | someFeature_B | someFeature_C |\n",
    "| :-: | :-: |                            | :-: | :-: | :-: |\n",
    "| 0 |  B  |  | 0 | 1 | 0 |\n",
    "| 1 |  C  | ----> one-hot encode ----> | 0 | 0 | 1 |\n",
    "| 2 |  A  |  | 1 | 0 | 0 |\n",
    "\n",
    "Additionally, as with the non-numeric features, we need to convert the non-numeric target label, `'income'` to numerical values for the learning algorithm to work. Since there are only two possible categories for this label (\"<=50K\" and \">50K\"), we can avoid using one-hot encoding and simply encode these two categories as `0` and `1`, respectively. In code cell below, you will need to implement the following:\n",
    " - Use [`pandas.get_dummies()`](http://pandas.pydata.org/pandas-docs/stable/generated/pandas.get_dummies.html?highlight=get_dummies#pandas.get_dummies) to perform one-hot encoding on the `'features_log_minmax_transform'` data.\n",
    " - Convert the target label `'income_raw'` to numerical entries.\n",
    "   - Set records with \"<=50K\" to `0` and records with \">50K\" to `1`."
   ]
  },
  {
   "cell_type": "code",
   "execution_count": 62,
   "metadata": {
    "collapsed": false
   },
   "outputs": [
    {
     "data": {
      "text/plain": [
       "pandas.core.series.Series"
      ]
     },
     "execution_count": 62,
     "metadata": {},
     "output_type": "execute_result"
    }
   ],
   "source": [
    "# Just checking this out - looks like the original columns are all dropped when using pd.get_dummies\n",
    "df = pd.get_dummies(features_log_minmax_transform)\n",
    "list(df.columns)\n",
    "df[['age', 'education-num', 'capital-gain', 'capital-loss', 'workclass_ Federal-gov','workclass_ Local-gov', 'workclass_ Private',\n",
    " 'workclass_ Self-emp-inc','workclass_ Self-emp-not-inc','workclass_ State-gov','workclass_ Without-pay',]].head(5)\n",
    "#features_log_minmax_transform.head(5)\n",
    "type(pd.get_dummies(income_raw)['>50K'])"
   ]
  },
  {
   "cell_type": "code",
   "execution_count": 63,
   "metadata": {
    "collapsed": false,
    "scrolled": true
   },
   "outputs": [
    {
     "name": "stdout",
     "output_type": "stream",
     "text": [
      "103 total features after one-hot encoding.\n"
     ]
    }
   ],
   "source": [
    "# TODO: One-hot encode the 'features_log_minmax_transform' data using pandas.get_dummies()\n",
    "#\n",
    "# I think this comment is correct, \n",
    "# but the directions in the markdown cell above are wrong - they say to use income raw.\n",
    "#\n",
    "# I am also thinking we should drop one of the columns - \n",
    "# which we do in linear and logistic regression based modeling,\n",
    "# but it might not matter for tree based methods.\n",
    "\n",
    "features_final = pd.get_dummies(features_log_minmax_transform)  \n",
    "\n",
    "# TODO: Encode the 'income_raw' data to numerical values\n",
    "income = pd.get_dummies(income_raw)['>50K']\n",
    "\n",
    "# Print the number of features after one-hot encoding\n",
    "encoded = list(features_final.columns)\n",
    "print \"{} total features after one-hot encoding.\".format(len(encoded))\n",
    "\n",
    "# Uncomment the following line to see the encoded feature names\n",
    "# print encoded"
   ]
  },
  {
   "cell_type": "markdown",
   "metadata": {},
   "source": [
    "### Shuffle and Split Data\n",
    "Now all _categorical variables_ have been converted into numerical features, and all numerical features have been normalized. As always, we will now split the data (both features and their labels) into training and test sets. 80% of the data will be used for training and 20% for testing.\n",
    "\n",
    "Run the code cell below to perform this split."
   ]
  },
  {
   "cell_type": "code",
   "execution_count": 64,
   "metadata": {
    "collapsed": false
   },
   "outputs": [
    {
     "name": "stdout",
     "output_type": "stream",
     "text": [
      "Training set has 36177 samples.\n",
      "Testing set has 9045 samples.\n"
     ]
    }
   ],
   "source": [
    "# Import train_test_split\n",
    "from sklearn.cross_validation import train_test_split\n",
    "\n",
    "# Split the 'features' and 'income' data into training and testing sets\n",
    "X_train, X_test, y_train, y_test = train_test_split(features_final, \n",
    "                                                    income, \n",
    "                                                    test_size = 0.2, \n",
    "                                                    random_state = 0)\n",
    "\n",
    "# Show the results of the split\n",
    "print \"Training set has {} samples.\".format(X_train.shape[0])\n",
    "print \"Testing set has {} samples.\".format(X_test.shape[0])"
   ]
  },
  {
   "cell_type": "markdown",
   "metadata": {},
   "source": [
    "----\n",
    "## Evaluating Model Performance\n",
    "In this section, we will investigate four different algorithms, and determine which is best at modeling the data. Three of these algorithms will be supervised learners of your choice, and the fourth algorithm is known as a *naive predictor*."
   ]
  },
  {
   "cell_type": "markdown",
   "metadata": {},
   "source": [
    "### Metrics and the Naive Predictor\n",
    "*CharityML*, equipped with their research, knows individuals that make more than \\$50,000 are most likely to donate to their charity. Because of this, *CharityML* is particularly interested in predicting who makes more than \\$50,000 accurately. It would seem that using **accuracy** as a metric for evaluating a particular model's performace would be appropriate. Additionally, identifying someone that *does not* make more than \\$50,000 as someone who does would be detrimental to *CharityML*, since they are looking to find individuals willing to donate. Therefore, a model's ability to precisely predict those that make more than \\$50,000 is *more important* than the model's ability to **recall** those individuals. We can use **F-beta score** as a metric that considers both precision and recall:\n",
    "\n",
    "$$ F_{\\beta} = (1 + \\beta^2) \\cdot \\frac{precision \\cdot recall}{\\left( \\beta^2 \\cdot precision \\right) + recall} $$\n",
    "\n",
    "In particular, when $\\beta = 0.5$, more emphasis is placed on precision. This is called the **F$_{0.5}$ score** (or F-score for simplicity).\n",
    "\n",
    "Looking at the distribution of classes (those who make at most \\$50,000, and those who make more), it's clear most individuals do not make more than \\$50,000. This can greatly affect **accuracy**, since we could simply say *\"this person does not make more than \\$50,000\"* and generally be right, without ever looking at the data! Making such a statement would be called **naive**, since we have not considered any information to substantiate the claim. It is always important to consider the *naive prediction* for your data, to help establish a benchmark for whether a model is performing well. That been said, using that prediction would be pointless: If we predicted all people made less than \\$50,000, *CharityML* would identify no one as donors. \n",
    "\n",
    "\n",
    "#### Note: Recap of accuracy, precision, recall\n",
    "\n",
    "** Accuracy ** measures how often the classifier makes the correct prediction. It’s the ratio of the number of correct predictions to the total number of predictions (the number of test data points).\n",
    "\n",
    "** Precision ** tells us what proportion of messages we classified as spam, actually were spam.\n",
    "It is a ratio of true positives(words classified as spam, and which are actually spam) to all positives(all words classified as spam, irrespective of whether that was the correct classificatio), in other words it is the ratio of\n",
    "\n",
    "`[True Positives/(True Positives + False Positives)]`\n",
    "\n",
    "** Recall(sensitivity)** tells us what proportion of messages that actually were spam were classified by us as spam.\n",
    "It is a ratio of true positives(words classified as spam, and which are actually spam) to all the words that were actually spam, in other words it is the ratio of\n",
    "\n",
    "`[True Positives/(True Positives + False Negatives)]`\n",
    "\n",
    "For classification problems that are skewed in their classification distributions like in our case, for example if we had a 100 text messages and only 2 were spam and the rest 98 weren't, accuracy by itself is not a very good metric. We could classify 90 messages as not spam(including the 2 that were spam but we classify them as not spam, hence they would be false negatives) and 10 as spam(all 10 false positives) and still get a reasonably good accuracy score. For such cases, precision and recall come in very handy. These two metrics can be combined to get the F1 score, which is weighted average(harmonic mean) of the precision and recall scores. This score can range from 0 to 1, with 1 being the best possible F1 score(we take the harmonic mean as we are dealing with ratios)."
   ]
  },
  {
   "cell_type": "markdown",
   "metadata": {},
   "source": [
    "### Question 1 - Naive Predictor Performace\n",
    "* If we chose a model that always predicted an individual made more than $50,000, what would  that model's accuracy and F-score be on this dataset? You must use the code cell below and assign your results to `'accuracy'` and `'fscore'` to be used later.\n",
    "\n",
    "** HINT: ** \n",
    "\n",
    "* When we have a model that always predicts '1' (i.e. the individual makes more than 50k) then our model will have no True Negatives(TN) or False Negatives(FN) as we are not making any negative('0' value) predictions. Therefore our Accuracy in this case becomes the same as our Precision(True Positives/(True Positives + False Positives)) as every prediction that we have made with value '1' that should have '0' becomes a False Positive; therefore our denominator in this case is the total number of records we have in total. \n",
    "* Our Recall score(True Positives/(True Positives + False Negatives)) in this setting becomes 1 as we have no False Negatives."
   ]
  },
  {
   "cell_type": "code",
   "execution_count": 65,
   "metadata": {
    "collapsed": true
   },
   "outputs": [
    {
     "name": "stdout",
     "output_type": "stream",
     "text": [
      "Naive Predictor: [Accuracy score: 0.2478, F-score: 0.2917]\n"
     ]
    }
   ],
   "source": [
    "TP = float(np.sum(income)) # Counting the ones as this is the naive case. Note that 'income' is the 'income_raw' data \n",
    "#encoded to numerical values done in the data preprocessing step.\n",
    "FP = income.count() - TP # Specific to the naive case\n",
    "\n",
    "TN = 0 # No predicted negatives in the naive case\n",
    "FN = 0 # No predicted negatives in the naive case\n",
    "\n",
    "# TODO: Calculate accuracy, precision and recall\n",
    "accuracy = (TP + TN)/(TP + TN + FP + FN)\n",
    "recall = TP/(TP + FN)\n",
    "precision = TP/(TP + FP)\n",
    "\n",
    "# TODO: Calculate F-score using the formula above for beta = 0.5 and correct values for precision and recall.\n",
    "# HINT: The formula above can be written as (1 + beta**2) * (precision * recall) / ((beta**2 * precision) + recall)\n",
    "fscore = (1 + .5**2)*(precision*recall)/((.5**2*precision) + recall)\n",
    "\n",
    "# Print the results \n",
    "print \"Naive Predictor: [Accuracy score: {:.4f}, F-score: {:.4f}]\".format(accuracy, fscore)"
   ]
  },
  {
   "cell_type": "markdown",
   "metadata": {},
   "source": [
    "###  Supervised Learning Models\n",
    "**The following are some of the supervised learning models that are currently available in** [`scikit-learn`](http://scikit-learn.org/stable/supervised_learning.html) **that you may choose from:**\n",
    "- Gaussian Naive Bayes (GaussianNB)\n",
    "- Decision Trees\n",
    "- Ensemble Methods (Bagging, AdaBoost, Random Forest, Gradient Boosting)\n",
    "- K-Nearest Neighbors (KNeighbors)\n",
    "- Support Vector Machines (SVM)\n",
    "- Logistic Regression"
   ]
  },
  {
   "cell_type": "markdown",
   "metadata": {},
   "source": [
    "### Question 2 - Model Application\n",
    "List three of the supervised learning models above that are appropriate for this problem that you will test on the census data. For each model chosen\n",
    "\n",
    "- Describe one real-world application in industry where the model can be applied. \n",
    "- What are the strengths of the model; when does it perform well?\n",
    "- What are the weaknesses of the model; when does it perform poorly?\n",
    "- What makes this model a good candidate for the problem, given what you know about the data?\n",
    "\n",
    "** HINT: **\n",
    "\n",
    "Structure your answer in the same format as above, with 4 parts for each of the three models you pick. Please include references with your answer."
   ]
  },
  {
   "cell_type": "markdown",
   "metadata": {},
   "source": [
    "**Answer: **\n",
    "\n",
    "Really we could use any of these above models, as they are all able to perform supervised, classification.  There are some supervised models that only work for regression, but not for classification - like traditional regression.  The three models I will consider are:\n",
    "\n",
    "#### Logistic Regression\n",
    "\n",
    "- **Describe one real-world application in industry where the model can be applied. **<br>\n",
    "This is a very popular technique used for binary classification (which happens to be what we are doing for this problem).  It can be used for any problem with information that we hope to use to identify a binary outcome.  Examples include identifying if an email is spam or not, will a candidate be successful or not in a particular role, or if a particular part will be defective or not in manufacturing.<br><br>\n",
    "\n",
    "- **What are the strengths of the model; when does it perform well?**<br>\n",
    "Logistic regression is particularly nice in that we obtain coefficients, which are easily interpretable.  That is, we can understand the association between the inputs and the impact on the response variable.  Other algorithms frequently do not lend themselves to being easily interpretable like logistic regression does.<br><br>\n",
    "\n",
    "- **What are the weaknesses of the model; when does it perform poorly?**<br>\n",
    "The logistic regression model isn't the most powerful in terms of accurately predicting the correct class.  There are much more powerful algorithms that have the ability to be more complex in terms of the way they create the separating boundaries between our two classes. If you were to add really high order interactions between all the variables, you might be able to create a better classifier - though you run the risk of overfitting.  Additionally, this would ruin the best thing about logistic regression in that it is easy to interpret the coefficients of the model. <br><br>\n",
    "\n",
    "- **What makes this model a good candidate for the problem, given what you know about the data?**<br>\n",
    "As stated in the first part, we might want to know how input variables are related to whether or not an individual makes more than 50k.  In which case, logistic regression can be used to make these predictions (as it is binary), and we can understand the influence of each particular variable on whether or not an individual earns more than 50k. This is not true of all of our classifiers.\n",
    "\n",
    "#### Random Forest\n",
    "\n",
    "- **Describe one real-world application in industry where the model can be applied. **<br>\n",
    "Random forests are an extremely popular algorithm for any sort of supervised learning problem.  This particular algorithm works for both classification (like we have in this case), as well as regression based problems.  Therefore, it can be used for any of the problems listed above for logistic regression, as well as predicting the amount you are likely to earn in your life based on all possible predictor variables - which could not be done with logistic regression.  It could also be used to predict credit scores, wait times at a bus stop, or other numeric values.<br><br>\n",
    "\n",
    "- **What are the strengths of the model; when does it perform well?**<br>\n",
    "The nice part is that the random forest algorithm works well 'out of the box'.  Though the algorithm has lots of knobs you can tune, you can actually use a random forest with really deep decision trees and lots of them, and it will do relatively well in practice for many different applications without having to tune the trees or figure out a specific number of trees to use. It can fit relatively complex decision boundaries, while generalizing, because we aggregate over multiple decision trees to fight against high variance.<br><br>\n",
    "\n",
    "- **What are the weaknesses of the model; when does it perform poorly?**<br>\n",
    "Random forests can leave us wondering how a particular input is associated with our output.  They are not easily interprettable in most cases.  You can look at feature importance, but there are a number of different ways to compute feature importance - and they all might come up with slightly different answers.  Additionally, partial dependency plots can help you determine the relationship between inputs and the response.  However, these are not straightforward to build, and they can be pretty computationally intensive.  Additionally, complex interactions may be taking part in the tree structure that won't show in these plots.<br><br>\n",
    "\n",
    "- **What makes this model a good candidate for the problem, given what you know about the data?**<br>\n",
    "As stated in the first part, random forests are an extremely popular algorithm that perform well right out of the box for classification and regression problems.  This makes it a great candidate for moving forward.\n",
    "\n",
    "#### Gradient Boosting\n",
    "\n",
    "- **Describe one real-world application in industry where the model can be applied. **<br>\n",
    "There are a lot of similarities between random forests and gradient boosting.  Both are extremely popular algorithm for any sort of supervised learning problem.  This particular algorithm works for both classification (like we have in this case), as well as regression based problems.  Therefore, it can be used for any of the problems listed above for logistic regression, as well as those listed in random forest - predict credit scores, wait times at a bus stop, or other numeric values, as well as spam or not spam, will a candidate be successful or not in a particular role, or if a particular part will be defective or not in manufacturing.<br><br>\n",
    "\n",
    "- **What are the strengths of the model; when does it perform well?**<br>\n",
    "Gradient boosting is likely to outperform all of the other models we have introduced if we tune it correctly.  The plus here is that we will get (I think) the best predictive power from this algorithm.  It can create a very complex surface for separating our classes.<br><br>\n",
    "\n",
    "- **What are the weaknesses of the model; when does it perform poorly?**<br>\n",
    "Unfortunatley, gradient boosting has a lot of knobs to turn.  We can't just grow the trees in the model super deep, or keep adding more and more treees.  We need to create the right amount of each element.  Additionally, we need to tune our learning rate in this model.  We might also choose to make it stochastic by using bootstrapping and random forest like components.  Like random forests our inputs are not directly interpretable in the way they influence the response either.<br><br>\n",
    "\n",
    "- **What makes this model a good candidate for the problem, given what you know about the data?**<br>\n",
    "As stated in the first part, this algorithm is likely to outperform the others for this problem given the right tuning of all the hyperparameters.  So, let's hope we can find the right combo to make it successful!"
   ]
  },
  {
   "cell_type": "markdown",
   "metadata": {},
   "source": [
    "### Implementation - Creating a Training and Predicting Pipeline\n",
    "To properly evaluate the performance of each model you've chosen, it's important that you create a training and predicting pipeline that allows you to quickly and effectively train models using various sizes of training data and perform predictions on the testing data. Your implementation here will be used in the following section.\n",
    "In the code block below, you will need to implement the following:\n",
    " - Import `fbeta_score` and `accuracy_score` from [`sklearn.metrics`](http://scikit-learn.org/stable/modules/classes.html#sklearn-metrics-metrics).\n",
    " - Fit the learner to the sampled training data and record the training time.\n",
    " - Perform predictions on the test data `X_test`, and also on the first 300 training points `X_train[:300]`.\n",
    "   - Record the total prediction time.\n",
    " - Calculate the accuracy score for both the training subset and testing set.\n",
    " - Calculate the F-score for both the training subset and testing set.\n",
    "   - Make sure that you set the `beta` parameter!"
   ]
  },
  {
   "cell_type": "code",
   "execution_count": 66,
   "metadata": {
    "collapsed": true
   },
   "outputs": [],
   "source": [
    "# TODO: Import two metrics from sklearn - fbeta_score and accuracy_score\n",
    "from sklearn.metrics import fbeta_score, accuracy_score\n",
    "\n",
    "def train_predict(learner, sample_size, X_train, y_train, X_test, y_test, beta=.5): \n",
    "    '''\n",
    "    inputs:\n",
    "       - learner: the learning algorithm to be trained and predicted on\n",
    "       - sample_size: the size of samples (number) to be drawn from training set\n",
    "       - X_train: features training set\n",
    "       - y_train: income training set\n",
    "       - X_test: features testing set\n",
    "       - y_test: income testing set\n",
    "       - beta: used for f1-score (default of .5)\n",
    "    '''\n",
    "    \n",
    "    results = {}\n",
    "    \n",
    "    # TODO: Fit the learner to the training data using slicing with 'sample_size' using .fit(training_features[:], training_labels[:])\n",
    "    ## This doesn't make a lot of sense to me, but I can blindly follow along... \n",
    "    start = time() # Get start time\n",
    "    learner.fit(X_train[:sample_size], y_train[:sample_size])\n",
    "    end = time() # Get end time\n",
    "    \n",
    "    # TODO: Calculate the training time\n",
    "    results['train_time'] = end - start\n",
    "        \n",
    "    # TODO: Get the predictions on the test set(X_test),\n",
    "    #       then get predictions on the first 300 training samples(X_train) using .predict()\n",
    "    # Why are we using 300?  What is the purpose of the `sample_size` above?  I am just going to assume sample_size is supposed to be used here...\n",
    "    start = time() # Get start time\n",
    "    predictions_test = learner.predict(X_test)\n",
    "    predictions_train = learner.predict(X_train[:sample_size])\n",
    "    end = time() # Get end time\n",
    "    \n",
    "    # TODO: Calculate the total prediction time\n",
    "    results['pred_time'] = end - start\n",
    "            \n",
    "    # TODO: Compute accuracy on the first 300 training samples which is y_train[:300]\n",
    "    results['acc_train'] = accuracy_score(predictions_train[:sample_size], y_train[:sample_size])\n",
    "        \n",
    "    # TODO: Compute accuracy on test set using accuracy_score()\n",
    "    results['acc_test'] = accuracy_score(predictions_test, y_test)\n",
    "    \n",
    "    # TODO: Compute F-score on the the first 300 training samples using fbeta_score()\n",
    "    # Since the beta isn't provided here, we can just use 0.5\n",
    "    results['f_train'] = fbeta_score(predictions_train[:sample_size], y_train[:sample_size], beta)\n",
    "        \n",
    "    # TODO: Compute F-score on the test set which is y_test\n",
    "    results['f_test'] = fbeta_score(predictions_test, y_test, beta)\n",
    "       \n",
    "    # Success\n",
    "    print \"{} trained on {} samples.\".format(learner.__class__.__name__, sample_size)\n",
    "        \n",
    "    # Return the results\n",
    "    return results"
   ]
  },
  {
   "cell_type": "markdown",
   "metadata": {},
   "source": [
    "### Implementation: Initial Model Evaluation\n",
    "In the code cell, you will need to implement the following:\n",
    "- Import the three supervised learning models you've discussed in the previous section.\n",
    "- Initialize the three models and store them in `'clf_A'`, `'clf_B'`, and `'clf_C'`.\n",
    "  - Use a `'random_state'` for each model you use, if provided.\n",
    "  - **Note:** Use the default settings for each model — you will tune one specific model in a later section.\n",
    "- Calculate the number of records equal to 1%, 10%, and 100% of the training data.\n",
    "  - Store those values in `'samples_1'`, `'samples_10'`, and `'samples_100'` respectively.\n",
    "\n",
    "**Note:** Depending on which algorithms you chose, the following implementation may take some time to run!"
   ]
  },
  {
   "cell_type": "code",
   "execution_count": 67,
   "metadata": {
    "collapsed": false
   },
   "outputs": [
    {
     "name": "stdout",
     "output_type": "stream",
     "text": [
      "LogisticRegression trained on 362 samples.\n",
      "LogisticRegression trained on 3618 samples.\n",
      "LogisticRegression trained on 36177 samples.\n",
      "RandomForestClassifier trained on 362 samples.\n",
      "RandomForestClassifier trained on 3618 samples.\n",
      "RandomForestClassifier trained on 36177 samples.\n",
      "GradientBoostingClassifier trained on 362 samples.\n",
      "GradientBoostingClassifier trained on 3618 samples.\n",
      "GradientBoostingClassifier trained on 36177 samples.\n"
     ]
    },
    {
     "data": {
      "image/png": "iVBORw0KGgoAAAANSUhEUgAAAxAAAAIuCAYAAAAv/u6UAAAABHNCSVQICAgIfAhkiAAAAAlwSFlz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\nmQWEJEmSpM4sICRJkiR19v8BRWgLhXh2AH0AAAAASUVORK5CYII=\n",
      "text/plain": [
       "<matplotlib.figure.Figure at 0x11405ff90>"
      ]
     },
     "metadata": {},
     "output_type": "display_data"
    }
   ],
   "source": [
    "# TODO: Import the three supervised learning models from sklearn\n",
    "from sklearn.linear_model import LogisticRegression\n",
    "from sklearn.ensemble import RandomForestClassifier, GradientBoostingClassifier\n",
    "\n",
    "# TODO: Initialize the three models\n",
    "clf_A = LogisticRegression(random_state=0)\n",
    "clf_B = RandomForestClassifier(random_state=0)\n",
    "clf_C = GradientBoostingClassifier(random_state=0)\n",
    "\n",
    "# TODO: Calculate the number of samples for 1%, 10%, and 100% of the training data\n",
    "# HINT: samples_100 is the entire training set i.e. len(y_train)\n",
    "# HINT: samples_10 is 10% of samples_100\n",
    "# HINT: samples_1 is 1% of samples_100\n",
    "samples_100 = len(y_train)\n",
    "samples_10 = int(round(len(y_train)*.1))\n",
    "samples_1 = int(round(len(y_train)*.01))\n",
    "\n",
    "# Collect results on the learners\n",
    "results = {}\n",
    "for clf in [clf_A, clf_B, clf_C]:\n",
    "    clf_name = clf.__class__.__name__\n",
    "    results[clf_name] = {}\n",
    "    for i, samples in enumerate([samples_1, samples_10, samples_100]):\n",
    "        results[clf_name][i] = \\\n",
    "        train_predict(clf, samples, X_train, y_train, X_test, y_test)\n",
    "\n",
    "# Run metrics visualization for the three supervised learning models chosen\n",
    "vs.evaluate(results, accuracy, fscore)"
   ]
  },
  {
   "cell_type": "markdown",
   "metadata": {},
   "source": [
    "----\n",
    "## Improving Results\n",
    "In this final section, you will choose from the three supervised learning models the *best* model to use on the student data. You will then perform a grid search optimization for the model over the entire training set (`X_train` and `y_train`) by tuning at least one parameter to improve upon the untuned model's F-score. "
   ]
  },
  {
   "cell_type": "markdown",
   "metadata": {},
   "source": [
    "### Question 3 - Choosing the Best Model\n",
    "\n",
    "* Based on the evaluation you performed earlier, in one to two paragraphs, explain to *CharityML* which of the three models you believe to be most appropriate for the task of identifying individuals that make more than \\$50,000. \n",
    "\n",
    "** HINT: ** \n",
    "Look at the graph at the bottom left from the cell above(the visualization created by `vs.evaluate(results, accuracy, fscore)`) and check the F score for the testing set when 100% of the training set is used. Which model has the highest score? Your answer should include discussion of the:\n",
    "* metrics - F score on the testing when 100% of the training data is used, \n",
    "* prediction/training time\n",
    "* the algorithm's suitability for the data."
   ]
  },
  {
   "cell_type": "markdown",
   "metadata": {},
   "source": [
    "**Answer: **\n",
    "\n",
    "If we really care about the algorithm that will do best moving into the future predicting individuals that will earn more than 50k, I suggest we use the gradient boosting model.  It has the 'best' scores for accuracy and f-score on the test sets of data regardless of training size.  It appears that the logistic regression model has high bias (which is not a surprise, as the training test sets both have similar metrics, but they are lower than other models' performance.  \n",
    "\n",
    "The amazing fit of random forests on the training data, while not extending as well to the test set suggests there is some overfitting (or high variance).  With smaller sample sizes, it appears that the gradient boosting model also overfits.  However, with larger sample sizes, the boosting model appears to generalize better and better.  It is the case with tuning the hyperparameters, I am confident that this model will continue to improve.  There isn't a ton to tune in logistic regression - there is an L2 penalty associated with the base in sklearn - which will control for overfitting, but that doesn't appear to be an issue for this model.  Additionally, random forests don't usually improve a ton with hyperparameter tuning.  \n",
    "\n",
    "Though the time of the algorithm is interesting - none of the models are taking such a huge amount of time with this small of a dataset that I think we need to worry about it.  With larger datasets, we might want to consider time constraints - as both random forests and gradient boosting algorithms are going to take significantly longer than logistic regression.  "
   ]
  },
  {
   "cell_type": "markdown",
   "metadata": {},
   "source": [
    "### Question 4 - Describing the Model in Layman's Terms\n",
    "\n",
    "* In one to two paragraphs, explain to *CharityML*, in layman's terms, how the final model chosen is supposed to work. Be sure that you are describing the major qualities of the model, such as how the model is trained and how the model makes a prediction. Avoid using advanced mathematical jargon, such as describing equations.\n",
    "\n",
    "** HINT: **\n",
    "\n",
    "When explaining your model, if using external resources please include all citations."
   ]
  },
  {
   "cell_type": "markdown",
   "metadata": {},
   "source": [
    "**Answer: ** \n",
    "\n",
    "So, we can start from the basics and get more advanced as we go through this.  Gradient Boosting is a supervised learning algorithm, which means it will predict whether an individual will fall above or below 50k based on the characteristics of the individual. \n",
    "\n",
    "The base level of gradient boosting for what we are using in Python is called a Decision Tree.  Decision Trees are greedy algorithms in that they pick the best split at a particular time.  So, what does this mean?  Well, say we are wondering if gender is related to the amount of money you make.  If it truly divides the high earners from lower earners, we will choose to split high and low earners based on this characteristic.  However, if being 50% of high earners are male and the other 50% of high earners are female, this is not a great way to determine individuals earning more than 50k.  We can look at the other characteristics of the individuals and determines what best splits them to homogeneous groups of high and low earners.  \n",
    "\n",
    "Within each group that is created, we can again look for another characteristic that splits into a more homogeneous group.  This creates a 'tree like' structure.  \n",
    "\n",
    "In gradient boosting, we combine multiple of these trees in two ways - first we try to match up trees to predict well where another tree might not have done as well.  It is like if you wanted to get all the answers right on a test, and you try to pair students together that do well on different parts of the test.  \n",
    "\n",
    "Additionally, we can weight the trees.  The weighting here is not as easy to intuitively explain, but essentially it has to do with our method for predicting doing better as we add more and more input, but we don't weigh too heavily on any one tree.  This is actually a common method to fight what is known as overfitting in multiple predictive algorithms."
   ]
  },
  {
   "cell_type": "markdown",
   "metadata": {},
   "source": [
    "### Implementation: Model Tuning\n",
    "Fine tune the chosen model. Use grid search (`GridSearchCV`) with at least one important parameter tuned with at least 3 different values. You will need to use the entire training set for this. In the code cell below, you will need to implement the following:\n",
    "- Import [`sklearn.grid_search.GridSearchCV`](http://scikit-learn.org/0.17/modules/generated/sklearn.grid_search.GridSearchCV.html) and [`sklearn.metrics.make_scorer`](http://scikit-learn.org/stable/modules/generated/sklearn.metrics.make_scorer.html).\n",
    "- Initialize the classifier you've chosen and store it in `clf`.\n",
    " - Set a `random_state` if one is available to the same state you set before.\n",
    "- Create a dictionary of parameters you wish to tune for the chosen model.\n",
    " - Example: `parameters = {'parameter' : [list of values]}`.\n",
    " - **Note:** Avoid tuning the `max_features` parameter of your learner if that parameter is available!\n",
    "- Use `make_scorer` to create an `fbeta_score` scoring object (with $\\beta = 0.5$).\n",
    "- Perform grid search on the classifier `clf` using the `'scorer'`, and store it in `grid_obj`.\n",
    "- Fit the grid search object to the training data (`X_train`, `y_train`), and store it in `grid_fit`.\n",
    "\n",
    "**Note:** Depending on the algorithm chosen and the parameter list, the following implementation may take some time to run!"
   ]
  },
  {
   "cell_type": "code",
   "execution_count": 68,
   "metadata": {
    "collapsed": false
   },
   "outputs": [
    {
     "name": "stdout",
     "output_type": "stream",
     "text": [
      "Fitting 3 folds for each of 36 candidates, totalling 108 fits\n"
     ]
    },
    {
     "name": "stderr",
     "output_type": "stream",
     "text": [
      "[Parallel(n_jobs=1)]: Done 108 out of 108 | elapsed: 165.1min finished\n"
     ]
    },
    {
     "name": "stdout",
     "output_type": "stream",
     "text": [
      "Unoptimized model\n",
      "------\n",
      "Accuracy score on testing data: 0.8630\n",
      "F-score on testing data: 0.7395\n",
      "\n",
      "Optimized Model\n",
      "------\n",
      "Final accuracy score on the testing data: 0.8691\n",
      "Final F-score on the testing data: 0.7495\n"
     ]
    }
   ],
   "source": [
    "# TODO: Import 'GridSearchCV', 'make_scorer', and any other necessary libraries\n",
    "from sklearn.grid_search import GridSearchCV\n",
    "from sklearn.metrics import make_scorer\n",
    "\n",
    "\n",
    "\n",
    "# TODO: Initialize the classifier\n",
    "clf = GradientBoostingClassifier()\n",
    "\n",
    "# TODO: Create the parameters list you wish to tune, using a dictionary if needed.\n",
    "# HINT: parameters = {'parameter_1': [value1, value2], 'parameter_2': [value1, value2]}\n",
    "parameters = {'learning_rate': [.001, .01, .1], 'n_estimators': [1000], 'max_depth': [1, 3, 5], \n",
    "             'subsample': [1, .8], 'max_features': [1., .8]}\n",
    "\n",
    "# TODO: Make an fbeta_score scoring object using make_scorer()\n",
    "scorer = make_scorer(fbeta_score, beta = .5)\n",
    "\n",
    "# TODO: Perform grid search on the classifier using 'scorer' as the scoring method using GridSearchCV()\n",
    "grid_obj = GridSearchCV(clf, parameters, scorer, verbose=True)\n",
    "\n",
    "# TODO: Fit the grid search object to the training data and find the optimal parameters using fit()\n",
    "grid_obj.fit(X_train, y_train)\n",
    "clf.fit(X_train, y_train)\n",
    "\n",
    "# Get the estimator\n",
    "best_clf = grid_obj.best_estimator_\n",
    "\n",
    "# Make predictions using the unoptimized and model\n",
    "predictions = clf.predict(X_test)\n",
    "best_predictions = best_clf.predict(X_test)\n",
    "\n",
    "# Report the before-and-afterscores\n",
    "print \"Unoptimized model\\n------\"\n",
    "print \"Accuracy score on testing data: {:.4f}\".format(accuracy_score(y_test, predictions))\n",
    "print \"F-score on testing data: {:.4f}\".format(fbeta_score(y_test, predictions, beta = 0.5))\n",
    "print \"\\nOptimized Model\\n------\"\n",
    "print \"Final accuracy score on the testing data: {:.4f}\".format(accuracy_score(y_test, best_predictions))\n",
    "print \"Final F-score on the testing data: {:.4f}\".format(fbeta_score(y_test, best_predictions, beta = 0.5))"
   ]
  },
  {
   "cell_type": "markdown",
   "metadata": {},
   "source": [
    "### Question 5 - Final Model Evaluation\n",
    "\n",
    "* What is your optimized model's accuracy and F-score on the testing data? \n",
    "* Are these scores better or worse than the unoptimized model? \n",
    "* How do the results from your optimized model compare to the naive predictor benchmarks you found earlier in **Question 1**?_  \n",
    "\n",
    "**Note:** Fill in the table below with your results, and then provide discussion in the **Answer** box."
   ]
  },
  {
   "cell_type": "markdown",
   "metadata": {},
   "source": [
    "#### Results:\n",
    "\n",
    "|     Metric     | Benchmark Predictor | Unoptimized Model | Optimized Model |\n",
    "| :------------: | :-----------------: | :---------------: | :-------------: | \n",
    "| Accuracy Score |      0.2478         |       0.8630      |    0.8691       |\n",
    "| F-score        |      0.2917         |       0.7395      |    0.7495       |\n"
   ]
  },
  {
   "cell_type": "markdown",
   "metadata": {},
   "source": [
    "**Answer: **\n",
    "\n",
    "We can see that the best model in both metrics is the optimized model (although the amount of time it took may not have been worth it).  The unoptimized model performed almost as well.  Both completely crush the completely naive approach."
   ]
  },
  {
   "cell_type": "markdown",
   "metadata": {},
   "source": [
    "----\n",
    "## Feature Importance\n",
    "\n",
    "An important task when performing supervised learning on a dataset like the census data we study here is determining which features provide the most predictive power. By focusing on the relationship between only a few crucial features and the target label we simplify our understanding of the phenomenon, which is most always a useful thing to do. In the case of this project, that means we wish to identify a small number of features that most strongly predict whether an individual makes at most or more than \\$50,000.\n",
    "\n",
    "Choose a scikit-learn classifier (e.g., adaboost, random forests) that has a `feature_importance_` attribute, which is a function that ranks the importance of features according to the chosen classifier.  In the next python cell fit this classifier to training set and use this attribute to determine the top 5 most important features for the census dataset."
   ]
  },
  {
   "cell_type": "markdown",
   "metadata": {},
   "source": [
    "### Question 6 - Feature Relevance Observation\n",
    "When **Exploring the Data**, it was shown there are thirteen available features for each individual on record in the census data. Of these thirteen records, which five features do you believe to be most important for prediction, and in what order would you rank them and why?"
   ]
  },
  {
   "cell_type": "markdown",
   "metadata": {},
   "source": [
    "**Answer:**\n",
    "\n",
    "I suppose the level of education and age would be two of the most important.  Higher education is likely associated with higher income, as well as higher age being associated with higher income (on average).  Occupation, hours worked, and gender might also be related.  There are studies that show males are often paid more than females.  The more hours worked are likely associated with higher pay, and certain jobs are probably associated with higher pay.\n",
    "\n",
    "Most of these reasona are just based on intuition or news...  Not a ton of other reasons - I suppose we will see that the data tells us in the next section."
   ]
  },
  {
   "cell_type": "markdown",
   "metadata": {},
   "source": [
    "### Implementation - Extracting Feature Importance\n",
    "Choose a `scikit-learn` supervised learning algorithm that has a `feature_importance_` attribute availble for it. This attribute is a function that ranks the importance of each feature when making predictions based on the chosen algorithm.\n",
    "\n",
    "In the code cell below, you will need to implement the following:\n",
    " - Import a supervised learning model from sklearn if it is different from the three used earlier.\n",
    " - Train the supervised model on the entire training set.\n",
    " - Extract the feature importances using `'.feature_importances_'`."
   ]
  },
  {
   "cell_type": "code",
   "execution_count": 72,
   "metadata": {
    "collapsed": false
   },
   "outputs": [
    {
     "data": {
      "image/png": "iVBORw0KGgoAAAANSUhEUgAAAoAAAAFgCAYAAAArYcg8AAAABHNCSVQICAgIfAhkiAAAAAlwSFlz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\ndwAAAABJRU5ErkJggg==\n",
      "text/plain": [
       "<matplotlib.figure.Figure at 0x11ae35190>"
      ]
     },
     "metadata": {},
     "output_type": "display_data"
    }
   ],
   "source": [
    "# TODO: Import a supervised learning model that has 'feature_importances_'\n",
    "\n",
    "\n",
    "# TODO: Train the supervised model on the training set using .fit(X_train, y_train)\n",
    "#just going to use the model from above here\n",
    "\n",
    "# TODO: Extract the feature importances using .feature_importances_ \n",
    "importances = best_clf.feature_importances_\n",
    "\n",
    "# Plot\n",
    "vs.feature_plot(importances, X_train, y_train)"
   ]
  },
  {
   "cell_type": "markdown",
   "metadata": {},
   "source": [
    "### Question 7 - Extracting Feature Importance\n",
    "\n",
    "Observe the visualization created above which displays the five most relevant features for predicting if an individual makes at most or above \\$50,000.  \n",
    "* How do these five features compare to the five features you discussed in **Question 6**?\n",
    "* If you were close to the same answer, how does this visualization confirm your thoughts? \n",
    "* If you were not close, why do you think these features are more relevant?"
   ]
  },
  {
   "cell_type": "markdown",
   "metadata": {},
   "source": [
    "**Answer:**\n",
    "\n",
    "I was right on two out of the five: age and education.  However, marital status and capital-gain/loss I did not expect to be associated.  Part of it could be not being familiar with the capital-gain/loss variable.  The marital status is surprising to me, but if the income is combined household - I suppose having two incomes would raise the chance to make more money.  I wonder if the other features might have been close.  None of these features seem overwhelmingly important given they are all below 20%. That is none of the features create great separation between the high and low income individuals.  "
   ]
  },
  {
   "cell_type": "markdown",
   "metadata": {},
   "source": [
    "### Feature Selection\n",
    "How does a model perform if we only use a subset of all the available features in the data? With less features required to train, the expectation is that training and prediction time is much lower — at the cost of performance metrics. From the visualization above, we see that the top five most important features contribute more than half of the importance of **all** features present in the data. This hints that we can attempt to *reduce the feature space* and simplify the information required for the model to learn. The code cell below will use the same optimized model you found earlier, and train it on the same training set *with only the top five important features*. "
   ]
  },
  {
   "cell_type": "code",
   "execution_count": 73,
   "metadata": {
    "collapsed": false
   },
   "outputs": [
    {
     "name": "stdout",
     "output_type": "stream",
     "text": [
      "Final Model trained on full data\n",
      "------\n",
      "Accuracy on testing data: 0.8691\n",
      "F-score on testing data: 0.7495\n",
      "\n",
      "Final Model trained on reduced data\n",
      "------\n",
      "Accuracy on testing data: 0.8586\n",
      "F-score on testing data: 0.7239\n"
     ]
    }
   ],
   "source": [
    "# Import functionality for cloning a model\n",
    "from sklearn.base import clone\n",
    "\n",
    "# Reduce the feature space\n",
    "X_train_reduced = X_train[X_train.columns.values[(np.argsort(importances)[::-1])[:5]]]\n",
    "X_test_reduced = X_test[X_test.columns.values[(np.argsort(importances)[::-1])[:5]]]\n",
    "\n",
    "# Train on the \"best\" model found from grid search earlier\n",
    "clf = (clone(best_clf)).fit(X_train_reduced, y_train)\n",
    "\n",
    "# Make new predictions\n",
    "reduced_predictions = clf.predict(X_test_reduced)\n",
    "\n",
    "# Report scores from the final model using both versions of data\n",
    "print \"Final Model trained on full data\\n------\"\n",
    "print \"Accuracy on testing data: {:.4f}\".format(accuracy_score(y_test, best_predictions))\n",
    "print \"F-score on testing data: {:.4f}\".format(fbeta_score(y_test, best_predictions, beta = 0.5))\n",
    "print \"\\nFinal Model trained on reduced data\\n------\"\n",
    "print \"Accuracy on testing data: {:.4f}\".format(accuracy_score(y_test, reduced_predictions))\n",
    "print \"F-score on testing data: {:.4f}\".format(fbeta_score(y_test, reduced_predictions, beta = 0.5))"
   ]
  },
  {
   "cell_type": "markdown",
   "metadata": {},
   "source": [
    "### Question 8 - Effects of Feature Selection\n",
    "\n",
    "* How does the final model's F-score and accuracy score on the reduced data using only five features compare to those same scores when all features are used?\n",
    "* If training time was a factor, would you consider using the reduced data as your training set?"
   ]
  },
  {
   "cell_type": "markdown",
   "metadata": {},
   "source": [
    "**Answer:**\n",
    "\n",
    "There is a slight reduction in the accuracy and F-score by using this reduced model with only the five features.  However, if there was a huge reduction in time for fitting the reduced model and we needed to update the model regularly - this reduced model might be best moving forward.  Alternatively, if our model was not going to be updated regularly, I would suggest that even these minor improvements on a grand scale of finding more potential contributors could be worth the minutes/hours/or even days necessary to fit the more complex model.  "
   ]
  },
  {
   "cell_type": "markdown",
   "metadata": {},
   "source": [
    "> **Note**: Once you have completed all of the code implementations and successfully answered each question above, you may finalize your work by exporting the iPython Notebook as an HTML document. You can do this by using the menu above and navigating to  \n",
    "**File -> Download as -> HTML (.html)**. Include the finished document along with this notebook as your submission."
   ]
  }
 ],
 "metadata": {
  "kernelspec": {
   "display_name": "Python 3",
   "language": "python",
   "name": "python3"
  },
  "language_info": {
   "codemirror_mode": {
    "name": "ipython",
    "version": 3
   },
   "file_extension": ".py",
   "mimetype": "text/x-python",
   "name": "python",
   "nbconvert_exporter": "python",
<<<<<<< HEAD
   "pygments_lexer": "ipython2",
   "version": "2.7.13"
=======
   "pygments_lexer": "ipython3",
   "version": "3.6.0"
>>>>>>> 9fdeb5401039b5e0cb08048e236e1e661de673fd
  }
 },
 "nbformat": 4,
 "nbformat_minor": 1
}
